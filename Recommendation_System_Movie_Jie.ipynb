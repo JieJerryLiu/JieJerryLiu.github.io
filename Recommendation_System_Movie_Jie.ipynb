{
  "nbformat": 4,
  "nbformat_minor": 0,
  "metadata": {
    "colab": {
      "name": "Recommendation_System_Movie Jie.ipynb",
      "provenance": [],
      "collapsed_sections": [],
      "include_colab_link": true
    },
    "kernelspec": {
      "name": "python3",
      "display_name": "Python 3"
    },
    "language_info": {
      "name": "python"
    }
  },
  "cells": [
    {
      "cell_type": "markdown",
      "metadata": {
        "id": "view-in-github",
        "colab_type": "text"
      },
      "source": [
        "<a href=\"https://colab.research.google.com/github/JieJerryLiu/JieJerryLiu.github.io/blob/main/Recommendation_System_Movie_Jie.ipynb\" target=\"_parent\"><img src=\"https://colab.research.google.com/assets/colab-badge.svg\" alt=\"Open In Colab\"/></a>"
      ]
    },
    {
      "cell_type": "markdown",
      "source": [
        "# **Spark Moive Recommendation**\n",
        "In this notebook, I use an Alternating Least Squares (ALS) algorithm with Spark APIs to predict the ratings for the movies in [MovieLens small dataset](https://grouplens.org/datasets/movielens/latest/)"
      ],
      "metadata": {
        "id": "6alEbKjqG9zD"
      }
    },
    {
      "cell_type": "markdown",
      "source": [
        "# Set Up Environments"
      ],
      "metadata": {
        "id": "QWldNX36HHoc"
      }
    },
    {
      "cell_type": "markdown",
      "source": [
        "## Spark\n",
        "\n",
        "- https://medium.com/grabngoinfo/install-pyspark-3-on-google-colab-the-easy-way-577ec4a2bcd8"
      ],
      "metadata": {
        "id": "LP7VtElzPwns"
      }
    },
    {
      "cell_type": "code",
      "source": [
        "!apt-get install openjdk-8-jdk-headless -qq > /dev/null\n",
        "!wget -q https://dlcdn.apache.org/spark/spark-3.2.1/spark-3.2.1-bin-hadoop3.2.tgz\n",
        "!tar xf spark-3.2.1-bin-hadoop3.2.tgz\n",
        "import os\n",
        "os.environ[\"JAVA_HOME\"] = \"/usr/lib/jvm/java-8-openjdk-amd64\"\n",
        "os.environ[\"SPARK_HOME\"] = '/content/spark-3.2.1-bin-hadoop3.2'\n",
        "!pip install -q findspark\n",
        "import findspark\n",
        "findspark.init()\n",
        "findspark.find()\n",
        "from pyspark.sql import SparkSession\n",
        "spark = SparkSession.builder.master(\"local[*]\").getOrCreate()\n",
        "spark\n",
        "from pyspark.sql.functions import col"
      ],
      "metadata": {
        "id": "FIdhuVy0Fr-P"
      },
      "execution_count": null,
      "outputs": []
    },
    {
      "cell_type": "markdown",
      "source": [
        "## Libraries "
      ],
      "metadata": {
        "id": "jUWvE0HsQfEA"
      }
    },
    {
      "cell_type": "code",
      "source": [
        "import numpy as np\n",
        "import pandas as pd\n",
        "import seaborn as sns\n",
        "import matplotlib.pyplot as plt\n",
        "import math\n",
        "%matplotlib inline \n",
        "#magic function"
      ],
      "metadata": {
        "id": "pZ2oYkBsFrty"
      },
      "execution_count": null,
      "outputs": []
    },
    {
      "cell_type": "code",
      "source": [
        "from google.colab import drive\n",
        "drive.mount('/content/drive')"
      ],
      "metadata": {
        "id": "tIjOLh3vFrmf",
        "colab": {
          "base_uri": "https://localhost:8080/"
        },
        "outputId": "dd1097d7-f2c8-4dfe-eae3-4f75611a5d5a"
      },
      "execution_count": null,
      "outputs": [
        {
          "output_type": "stream",
          "name": "stdout",
          "text": [
            "Mounted at /content/drive\n"
          ]
        }
      ]
    },
    {
      "cell_type": "markdown",
      "source": [
        "## Datasets"
      ],
      "metadata": {
        "id": "pJWrl1Ay2qFA"
      }
    },
    {
      "cell_type": "code",
      "source": [
        "ls"
      ],
      "metadata": {
        "colab": {
          "base_uri": "https://localhost:8080/"
        },
        "id": "nXP2izYhqr65",
        "outputId": "4a2f76a1-0b9d-4be7-9cae-2fe46e7f2283"
      },
      "execution_count": null,
      "outputs": [
        {
          "output_type": "stream",
          "name": "stdout",
          "text": [
            "\u001b[0m\u001b[01;34mdrive\u001b[0m/  \u001b[01;34msample_data\u001b[0m/  \u001b[01;34mspark-3.2.1-bin-hadoop3.2\u001b[0m/  spark-3.2.1-bin-hadoop3.2.tgz\n"
          ]
        }
      ]
    },
    {
      "cell_type": "code",
      "source": [
        "movies_df = spark.read.load(\"drive/MyDrive/LAIOFFER_FINAL_PROJECTS/RecSys_Movie/movies.csv\", format='csv', header = True)\n",
        "ratings_df = spark.read.load(\"drive/MyDrive/LAIOFFER_FINAL_PROJECTS/RecSys_Movie/ratings.csv\", format='csv', header = True)\n",
        "links_df = spark.read.load(\"drive/MyDrive/LAIOFFER_FINAL_PROJECTS/RecSys_Movie/links.csv\", format='csv', header = True)\n",
        "tags_df = spark.read.load(\"drive/MyDrive/LAIOFFER_FINAL_PROJECTS/RecSys_Movie/tags.csv\", format='csv', header = True)"
      ],
      "metadata": {
        "id": "r8-mXr-RFrfu"
      },
      "execution_count": null,
      "outputs": []
    },
    {
      "cell_type": "code",
      "source": [
        "movies_df.show(5)"
      ],
      "metadata": {
        "id": "K8OdsQ5RFrWV",
        "colab": {
          "base_uri": "https://localhost:8080/"
        },
        "outputId": "851f7980-1873-4c28-d980-82fb2a68818f"
      },
      "execution_count": null,
      "outputs": [
        {
          "output_type": "stream",
          "name": "stdout",
          "text": [
            "+-------+--------------------+--------------------+\n",
            "|movieId|               title|              genres|\n",
            "+-------+--------------------+--------------------+\n",
            "|      1|    Toy Story (1995)|Adventure|Animati...|\n",
            "|      2|      Jumanji (1995)|Adventure|Childre...|\n",
            "|      3|Grumpier Old Men ...|      Comedy|Romance|\n",
            "|      4|Waiting to Exhale...|Comedy|Drama|Romance|\n",
            "|      5|Father of the Bri...|              Comedy|\n",
            "+-------+--------------------+--------------------+\n",
            "only showing top 5 rows\n",
            "\n"
          ]
        }
      ]
    },
    {
      "cell_type": "code",
      "metadata": {
        "id": "REWeAir1zErR",
        "colab": {
          "base_uri": "https://localhost:8080/"
        },
        "outputId": "6265871e-b404-4138-fb69-b6a06d4a27e1"
      },
      "source": [
        "ratings_df.show(5)"
      ],
      "execution_count": null,
      "outputs": [
        {
          "output_type": "stream",
          "name": "stdout",
          "text": [
            "+------+-------+------+---------+\n",
            "|userId|movieId|rating|timestamp|\n",
            "+------+-------+------+---------+\n",
            "|     1|      1|   4.0|964982703|\n",
            "|     1|      3|   4.0|964981247|\n",
            "|     1|      6|   4.0|964982224|\n",
            "|     1|     47|   5.0|964983815|\n",
            "|     1|     50|   5.0|964982931|\n",
            "+------+-------+------+---------+\n",
            "only showing top 5 rows\n",
            "\n"
          ]
        }
      ]
    },
    {
      "cell_type": "code",
      "metadata": {
        "id": "TLEqnyWgzFzj",
        "colab": {
          "base_uri": "https://localhost:8080/"
        },
        "outputId": "5b8c1b7a-a433-4633-eaf9-6126df947569"
      },
      "source": [
        "links_df.show(5)"
      ],
      "execution_count": null,
      "outputs": [
        {
          "output_type": "stream",
          "name": "stdout",
          "text": [
            "+-------+-------+------+\n",
            "|movieId| imdbId|tmdbId|\n",
            "+-------+-------+------+\n",
            "|      1|0114709|   862|\n",
            "|      2|0113497|  8844|\n",
            "|      3|0113228| 15602|\n",
            "|      4|0114885| 31357|\n",
            "|      5|0113041| 11862|\n",
            "+-------+-------+------+\n",
            "only showing top 5 rows\n",
            "\n"
          ]
        }
      ]
    },
    {
      "cell_type": "code",
      "metadata": {
        "id": "kkCiJtjazHiG",
        "colab": {
          "base_uri": "https://localhost:8080/"
        },
        "outputId": "b4960589-fe37-403a-90e2-e80dbf5bc56f"
      },
      "source": [
        "tags_df.show(5)"
      ],
      "execution_count": null,
      "outputs": [
        {
          "output_type": "stream",
          "name": "stdout",
          "text": [
            "+------+-------+---------------+----------+\n",
            "|userId|movieId|            tag| timestamp|\n",
            "+------+-------+---------------+----------+\n",
            "|     2|  60756|          funny|1445714994|\n",
            "|     2|  60756|Highly quotable|1445714996|\n",
            "|     2|  60756|   will ferrell|1445714992|\n",
            "|     2|  89774|   Boxing story|1445715207|\n",
            "|     2|  89774|            MMA|1445715200|\n",
            "+------+-------+---------------+----------+\n",
            "only showing top 5 rows\n",
            "\n"
          ]
        }
      ]
    },
    {
      "cell_type": "code",
      "metadata": {
        "id": "VeUxQZx1zW51",
        "colab": {
          "base_uri": "https://localhost:8080/"
        },
        "outputId": "a1352de8-50bf-456e-b65c-c40542b6fc73"
      },
      "source": [
        "tmp1 = ratings_df.groupBy(\"userID\").count().toPandas()['count'].min()\n",
        "tmp2 = ratings_df.groupBy(\"movieId\").count().toPandas()['count'].min()\n",
        "print('For the users that rated movies and the movies that were rated:')\n",
        "print('Minimum number of ratings per user is {}'.format(tmp1))\n",
        "print('Minimum number of ratings per movie is {}'.format(tmp2))"
      ],
      "execution_count": null,
      "outputs": [
        {
          "output_type": "stream",
          "name": "stdout",
          "text": [
            "For the users that rated movies and the movies that were rated:\n",
            "Minimum number of ratings per user is 20\n",
            "Minimum number of ratings per movie is 1\n"
          ]
        }
      ]
    },
    {
      "cell_type": "code",
      "metadata": {
        "id": "6mrhUm9Zzh6G",
        "colab": {
          "base_uri": "https://localhost:8080/"
        },
        "outputId": "bd6bc2d7-8d88-40e1-8656-d6c15e81c07f"
      },
      "source": [
        "tmp1 = sum(ratings_df.groupBy(\"movieId\").count().toPandas()['count'] == 1)\n",
        "tmp2 = ratings_df.select('movieId').distinct().count()\n",
        "print('{} out of {} movies are rated by only one user'.format(tmp1, tmp2))"
      ],
      "execution_count": null,
      "outputs": [
        {
          "output_type": "stream",
          "name": "stdout",
          "text": [
            "3446 out of 9724 movies are rated by only one user\n"
          ]
        }
      ]
    },
    {
      "cell_type": "markdown",
      "metadata": {
        "id": "4t2cH5rw08D-"
      },
      "source": [
        "# Part 1: Spark SQL and OLAP"
      ]
    },
    {
      "cell_type": "code",
      "metadata": {
        "id": "HiH40ORB1Rr9",
        "colab": {
          "base_uri": "https://localhost:8080/"
        },
        "outputId": "6173a057-8026-4d88-d32b-0e6354e6dc29"
      },
      "source": [
        "movies_df.createOrReplaceTempView(\"movies\")\n",
        "ratings_df.registerTempTable(\"ratings\")\n",
        "links_df.registerTempTable(\"links\")\n",
        "tags_df.registerTempTable(\"tags\")"
      ],
      "execution_count": null,
      "outputs": [
        {
          "output_type": "stream",
          "name": "stderr",
          "text": [
            "/content/spark-3.2.1-bin-hadoop3.2/python/pyspark/sql/dataframe.py:140: FutureWarning: Deprecated in 2.0, use createOrReplaceTempView instead.\n",
            "  FutureWarning\n"
          ]
        }
      ]
    },
    {
      "cell_type": "markdown",
      "metadata": {
        "id": "EeKYhPR01IHr"
      },
      "source": [
        "### 1: The number of Users"
      ]
    },
    {
      "cell_type": "code",
      "source": [
        "number_users_df = ratings_df.select('userID').distinct().count()\n",
        "\n",
        "print(\"Total number of users is \", number_users_df, \".\")"
      ],
      "metadata": {
        "colab": {
          "base_uri": "https://localhost:8080/"
        },
        "id": "uqy9GEBGrB5A",
        "outputId": "094e06c0-141d-423e-a366-2e9eb97ab8bf"
      },
      "execution_count": null,
      "outputs": [
        {
          "output_type": "stream",
          "name": "stdout",
          "text": [
            "Total number of users is  610 .\n"
          ]
        }
      ]
    },
    {
      "cell_type": "code",
      "metadata": {
        "id": "mGnoh18w1F0W",
        "colab": {
          "base_uri": "https://localhost:8080/"
        },
        "outputId": "372d0c4e-387b-4b41-f15d-e361523b277a"
      },
      "source": [
        "number_users_sql = spark.sql(\"Select Count(Distinct userId) as Number_of_Users from ratings\")\n",
        "number_users_sql.show()"
      ],
      "execution_count": null,
      "outputs": [
        {
          "output_type": "stream",
          "name": "stdout",
          "text": [
            "+---------------+\n",
            "|Number_of_Users|\n",
            "+---------------+\n",
            "|            610|\n",
            "+---------------+\n",
            "\n"
          ]
        }
      ]
    },
    {
      "cell_type": "code",
      "source": [
        "number_users_sql.toPandas()\n",
        "print(\"Total number of user is {}\".format(number_users_sql.toPandas().iloc[0,0]))"
      ],
      "metadata": {
        "colab": {
          "base_uri": "https://localhost:8080/"
        },
        "id": "HXaISQzNFQyG",
        "outputId": "67db544c-95a8-4a37-d688-62a22b52baf6"
      },
      "execution_count": null,
      "outputs": [
        {
          "output_type": "stream",
          "name": "stdout",
          "text": [
            "Total number of user is 610\n"
          ]
        }
      ]
    },
    {
      "cell_type": "markdown",
      "metadata": {
        "id": "DJsAsrIs4ifx"
      },
      "source": [
        "### 2: The number of Movies"
      ]
    },
    {
      "cell_type": "code",
      "metadata": {
        "id": "Y7GHP20_4N-5",
        "colab": {
          "base_uri": "https://localhost:8080/"
        },
        "outputId": "83db3b7f-a8ab-4f0a-a855-23fab205f8c3"
      },
      "source": [
        "number_movies_sql = spark.sql(\"Select Count(movieId) as Number_of_Moives from movies\")\n",
        "number_movies_sql.show()"
      ],
      "execution_count": null,
      "outputs": [
        {
          "output_type": "stream",
          "name": "stdout",
          "text": [
            "+----------------+\n",
            "|Number_of_Moives|\n",
            "+----------------+\n",
            "|            9742|\n",
            "+----------------+\n",
            "\n"
          ]
        }
      ]
    },
    {
      "cell_type": "code",
      "source": [
        "number_movie_df = movies_df.select(\"movieID\").distinct().count()\n",
        "\n",
        "print(\"Total number of moives is \", number_movie_df, \".\")"
      ],
      "metadata": {
        "colab": {
          "base_uri": "https://localhost:8080/"
        },
        "id": "bpB3QwGirimt",
        "outputId": "fc0bf063-0746-4841-feb8-cacae2e65acf"
      },
      "execution_count": null,
      "outputs": [
        {
          "output_type": "stream",
          "name": "stdout",
          "text": [
            "Total number of moives is  9742 .\n"
          ]
        }
      ]
    },
    {
      "cell_type": "markdown",
      "metadata": {
        "id": "axRsLKg85DhS"
      },
      "source": [
        "### 3:  The number of movies are rated by users and movies that are not rated before"
      ]
    },
    {
      "cell_type": "code",
      "source": [
        "# number of movies rated\n",
        "rating_movies_sql = spark.sql(\"Select Count(movieId) as Number_of_Rated_Moives From movies Where movieID in (Select movieId From ratings)\")\n",
        "rating_movies_sql.show()"
      ],
      "metadata": {
        "colab": {
          "base_uri": "https://localhost:8080/"
        },
        "id": "sNT9Pk1IwzKG",
        "outputId": "68cb8527-6200-4416-e17d-62ab57167ea7"
      },
      "execution_count": null,
      "outputs": [
        {
          "output_type": "stream",
          "name": "stdout",
          "text": [
            "+----------------------+\n",
            "|Number_of_Rated_Moives|\n",
            "+----------------------+\n",
            "|                  9724|\n",
            "+----------------------+\n",
            "\n"
          ]
        }
      ]
    },
    {
      "cell_type": "code",
      "source": [
        "rating_movies_df = ratings_df.select(\"movieID\").distinct().count()\n",
        "\n",
        "print(\"Total number of movies rated by users is {}.\".format(rating_movies_df))"
      ],
      "metadata": {
        "colab": {
          "base_uri": "https://localhost:8080/"
        },
        "id": "DnyBv34ts38k",
        "outputId": "fe78cc00-dfe7-48d6-9cbd-e01332be6df3"
      },
      "execution_count": null,
      "outputs": [
        {
          "output_type": "stream",
          "name": "stdout",
          "text": [
            "Total number of movies rated by users is 9724.\n"
          ]
        }
      ]
    },
    {
      "cell_type": "code",
      "metadata": {
        "id": "oGKwmS8J7y1b",
        "colab": {
          "base_uri": "https://localhost:8080/"
        },
        "outputId": "12412cfc-ff10-41ea-a0b4-42eb9a3ecf41"
      },
      "source": [
        "# movies that have not been rated before: 50 movies as an example\n",
        "unrated_list=spark.sql('SELECT * ' +\\\n",
        "                       'FROM movies ' +\\\n",
        "                       'WHERE movieId NOT IN ( ' +\\\n",
        "                        'SELECT movieId ' +\\\n",
        "                        'FROM ratings ' +\\\n",
        "                       ') ' +\\\n",
        "                       'LIMIT 50')\n",
        "print('50 movies that have not been rated by users:')\n",
        "unrated_list.show()"
      ],
      "execution_count": null,
      "outputs": [
        {
          "output_type": "stream",
          "name": "stdout",
          "text": [
            "50 movies that have not been rated by users:\n",
            "+-------+--------------------+--------------------+\n",
            "|movieId|               title|              genres|\n",
            "+-------+--------------------+--------------------+\n",
            "|   1076|Innocents, The (1...|Drama|Horror|Thri...|\n",
            "|   2939|      Niagara (1953)|      Drama|Thriller|\n",
            "|   3338|For All Mankind (...|         Documentary|\n",
            "|   3456|Color of Paradise...|               Drama|\n",
            "|   4194|I Know Where I'm ...|   Drama|Romance|War|\n",
            "|   5721|  Chosen, The (1981)|               Drama|\n",
            "|   6668|Road Home, The (W...|       Drama|Romance|\n",
            "|   6849|      Scrooge (1970)|Drama|Fantasy|Mus...|\n",
            "|   7020|        Proof (1991)|Comedy|Drama|Romance|\n",
            "|   7792|Parallax View, Th...|            Thriller|\n",
            "|   8765|This Gun for Hire...|Crime|Film-Noir|T...|\n",
            "|  25855|Roaring Twenties,...|Crime|Drama|Thriller|\n",
            "|  26085|Mutiny on the Bou...|Adventure|Drama|R...|\n",
            "|  30892|In the Realms of ...|Animation|Documen...|\n",
            "|  32160|Twentieth Century...|              Comedy|\n",
            "|  32371|Call Northside 77...|Crime|Drama|Film-...|\n",
            "|  34482|Browning Version,...|               Drama|\n",
            "|  85565|  Chalet Girl (2011)|      Comedy|Romance|\n",
            "+-------+--------------------+--------------------+\n",
            "\n"
          ]
        }
      ]
    },
    {
      "cell_type": "markdown",
      "metadata": {
        "id": "hDrUzAEA8j3R"
      },
      "source": [
        "### 4: Movie Genres"
      ]
    },
    {
      "cell_type": "code",
      "source": [
        "genres_list=spark.sql('select genres from movies').toPandas()\n",
        "spark.sql('select distinct genres from movies').show()"
      ],
      "metadata": {
        "colab": {
          "base_uri": "https://localhost:8080/"
        },
        "id": "uL7ftqfBwEgh",
        "outputId": "31f31a07-c690-463f-d2f2-00b2dbe0fee3"
      },
      "execution_count": null,
      "outputs": [
        {
          "output_type": "stream",
          "name": "stdout",
          "text": [
            "+--------------------+\n",
            "|              genres|\n",
            "+--------------------+\n",
            "|Comedy|Horror|Thr...|\n",
            "|Adventure|Sci-Fi|...|\n",
            "|Action|Adventure|...|\n",
            "| Action|Drama|Horror|\n",
            "|Action|Animation|...|\n",
            "|Animation|Childre...|\n",
            "|Action|Adventure|...|\n",
            "|    Adventure|Sci-Fi|\n",
            "|Documentary|Music...|\n",
            "|Adventure|Childre...|\n",
            "| Adventure|Animation|\n",
            "| Musical|Romance|War|\n",
            "|Action|Adventure|...|\n",
            "|Adventure|Childre...|\n",
            "|Comedy|Crime|Horr...|\n",
            "|Crime|Drama|Fanta...|\n",
            "|Comedy|Mystery|Th...|\n",
            "|   Adventure|Fantasy|\n",
            "|Horror|Romance|Sc...|\n",
            "|Drama|Film-Noir|R...|\n",
            "+--------------------+\n",
            "only showing top 20 rows\n",
            "\n"
          ]
        }
      ]
    },
    {
      "cell_type": "code",
      "metadata": {
        "id": "quueW6Jl8hBW",
        "colab": {
          "base_uri": "https://localhost:8080/"
        },
        "outputId": "244c137b-496d-43e1-a949-80bf557523b0"
      },
      "source": [
        "genres_list_sql = spark.sql(\"Select Distinct explode(split(genres,'[|]')) as genres From movies Order by 1\")\n",
        "genres_list_sql.show()"
      ],
      "execution_count": null,
      "outputs": [
        {
          "output_type": "stream",
          "name": "stdout",
          "text": [
            "+------------------+\n",
            "|            genres|\n",
            "+------------------+\n",
            "|(no genres listed)|\n",
            "|            Action|\n",
            "|         Adventure|\n",
            "|         Animation|\n",
            "|          Children|\n",
            "|            Comedy|\n",
            "|             Crime|\n",
            "|       Documentary|\n",
            "|             Drama|\n",
            "|           Fantasy|\n",
            "|         Film-Noir|\n",
            "|            Horror|\n",
            "|              IMAX|\n",
            "|           Musical|\n",
            "|           Mystery|\n",
            "|           Romance|\n",
            "|            Sci-Fi|\n",
            "|          Thriller|\n",
            "|               War|\n",
            "|           Western|\n",
            "+------------------+\n",
            "\n"
          ]
        }
      ]
    },
    {
      "cell_type": "code",
      "metadata": {
        "id": "t53GMhTrLYcy",
        "colab": {
          "base_uri": "https://localhost:8080/"
        },
        "outputId": "c4988402-23b8-4d68-c410-67d6a7e7cd77"
      },
      "source": [
        "# size of each category \n",
        "numMovies_category_sql = spark.sql(\"Select genres,Count(movieId) as Number_of_Moives From(Select explode(split(genres,'[|]')) as genres, movieId From movies) Group By 1 Order by 2 DESC\")\n",
        "numMovies_category_sql.show()"
      ],
      "execution_count": null,
      "outputs": [
        {
          "output_type": "stream",
          "name": "stdout",
          "text": [
            "+------------------+----------------+\n",
            "|            genres|Number_of_Moives|\n",
            "+------------------+----------------+\n",
            "|             Drama|            4361|\n",
            "|            Comedy|            3756|\n",
            "|          Thriller|            1894|\n",
            "|            Action|            1828|\n",
            "|           Romance|            1596|\n",
            "|         Adventure|            1263|\n",
            "|             Crime|            1199|\n",
            "|            Sci-Fi|             980|\n",
            "|            Horror|             978|\n",
            "|           Fantasy|             779|\n",
            "|          Children|             664|\n",
            "|         Animation|             611|\n",
            "|           Mystery|             573|\n",
            "|       Documentary|             440|\n",
            "|               War|             382|\n",
            "|           Musical|             334|\n",
            "|           Western|             167|\n",
            "|              IMAX|             158|\n",
            "|         Film-Noir|              87|\n",
            "|(no genres listed)|              34|\n",
            "+------------------+----------------+\n",
            "\n"
          ]
        }
      ]
    },
    {
      "cell_type": "code",
      "metadata": {
        "id": "HwPq3juBXk9L",
        "colab": {
          "base_uri": "https://localhost:8080/"
        },
        "outputId": "b57bf2c4-1817-4ef1-f5a8-1244f8dabe6a"
      },
      "source": [
        "# list all movie for each category \n",
        "name_movie_category_sql = spark.sql(\"Select genres, concat_ws(',',collect_set(title)) as list_of_movies From(Select explode(split(genres,'[|]')) as genres, title From movies) Group By 1\")\n",
        "name_movie_category_sql.show()"
      ],
      "execution_count": null,
      "outputs": [
        {
          "output_type": "stream",
          "name": "stdout",
          "text": [
            "+------------------+--------------------+\n",
            "|            genres|      list_of_movies|\n",
            "+------------------+--------------------+\n",
            "|             Crime|Stealing Rembrand...|\n",
            "|           Romance|Vampire in Brookl...|\n",
            "|          Thriller|Element of Crime,...|\n",
            "|         Adventure|Ice Age: Collisio...|\n",
            "|             Drama|Airport '77 (1977...|\n",
            "|               War|General, The (192...|\n",
            "|       Documentary|The Barkley Marat...|\n",
            "|           Fantasy|Masters of the Un...|\n",
            "|           Mystery|Before and After ...|\n",
            "|           Musical|U2: Rattle and Hu...|\n",
            "|         Animation|Ice Age: Collisio...|\n",
            "|         Film-Noir|Rififi (Du rififi...|\n",
            "|(no genres listed)|T2 3-D: Battle Ac...|\n",
            "|              IMAX|Harry Potter and ...|\n",
            "|            Horror|Underworld: Rise ...|\n",
            "|           Western|Man Who Shot Libe...|\n",
            "|            Comedy|Hysteria (2011),H...|\n",
            "|          Children|Ice Age: Collisio...|\n",
            "|            Action|Stealing Rembrand...|\n",
            "|            Sci-Fi|Push (2009),SORI:...|\n",
            "+------------------+--------------------+\n",
            "\n"
          ]
        }
      ]
    },
    {
      "cell_type": "markdown",
      "metadata": {
        "id": "aS11BgUKN8nZ"
      },
      "source": [
        "# Part2: Spark ALS based approach for training model"
      ]
    },
    {
      "cell_type": "markdown",
      "source": [
        "## Datasets"
      ],
      "metadata": {
        "id": "c272IPu05h06"
      }
    },
    {
      "cell_type": "code",
      "metadata": {
        "id": "nuoD2YfyQfVq",
        "colab": {
          "base_uri": "https://localhost:8080/"
        },
        "outputId": "b0e54f01-4a10-4f16-87f4-6e72b4f80c90"
      },
      "source": [
        "ratings_df.show()"
      ],
      "execution_count": null,
      "outputs": [
        {
          "output_type": "stream",
          "name": "stdout",
          "text": [
            "+------+-------+------+---------+\n",
            "|userId|movieId|rating|timestamp|\n",
            "+------+-------+------+---------+\n",
            "|     1|      1|   4.0|964982703|\n",
            "|     1|      3|   4.0|964981247|\n",
            "|     1|      6|   4.0|964982224|\n",
            "|     1|     47|   5.0|964983815|\n",
            "|     1|     50|   5.0|964982931|\n",
            "|     1|     70|   3.0|964982400|\n",
            "|     1|    101|   5.0|964980868|\n",
            "|     1|    110|   4.0|964982176|\n",
            "|     1|    151|   5.0|964984041|\n",
            "|     1|    157|   5.0|964984100|\n",
            "|     1|    163|   5.0|964983650|\n",
            "|     1|    216|   5.0|964981208|\n",
            "|     1|    223|   3.0|964980985|\n",
            "|     1|    231|   5.0|964981179|\n",
            "|     1|    235|   4.0|964980908|\n",
            "|     1|    260|   5.0|964981680|\n",
            "|     1|    296|   3.0|964982967|\n",
            "|     1|    316|   3.0|964982310|\n",
            "|     1|    333|   5.0|964981179|\n",
            "|     1|    349|   4.0|964982563|\n",
            "+------+-------+------+---------+\n",
            "only showing top 20 rows\n",
            "\n"
          ]
        }
      ]
    },
    {
      "cell_type": "code",
      "metadata": {
        "id": "-6p0nDibQhKl"
      },
      "source": [
        "movie_ratings=ratings_df.drop('timestamp')"
      ],
      "execution_count": null,
      "outputs": []
    },
    {
      "cell_type": "code",
      "metadata": {
        "id": "Db_Mg8FnQs4y"
      },
      "source": [
        "# Data type convert\n",
        "from pyspark.sql.types import IntegerType, FloatType\n",
        "movie_ratings = movie_ratings.withColumn(\"userId\", movie_ratings[\"userId\"].cast(IntegerType()))\n",
        "movie_ratings = movie_ratings.withColumn(\"movieId\", movie_ratings[\"movieId\"].cast(IntegerType()))\n",
        "movie_ratings = movie_ratings.withColumn(\"rating\", movie_ratings[\"rating\"].cast(FloatType()))"
      ],
      "execution_count": null,
      "outputs": []
    },
    {
      "cell_type": "code",
      "metadata": {
        "id": "q7QagKRAQv49",
        "colab": {
          "base_uri": "https://localhost:8080/"
        },
        "outputId": "0ca21a11-6f1b-49f8-f3d7-bc9f423ed68a"
      },
      "source": [
        "movie_ratings.show()"
      ],
      "execution_count": null,
      "outputs": [
        {
          "output_type": "stream",
          "name": "stdout",
          "text": [
            "+------+-------+------+\n",
            "|userId|movieId|rating|\n",
            "+------+-------+------+\n",
            "|     1|      1|   4.0|\n",
            "|     1|      3|   4.0|\n",
            "|     1|      6|   4.0|\n",
            "|     1|     47|   5.0|\n",
            "|     1|     50|   5.0|\n",
            "|     1|     70|   3.0|\n",
            "|     1|    101|   5.0|\n",
            "|     1|    110|   4.0|\n",
            "|     1|    151|   5.0|\n",
            "|     1|    157|   5.0|\n",
            "|     1|    163|   5.0|\n",
            "|     1|    216|   5.0|\n",
            "|     1|    223|   3.0|\n",
            "|     1|    231|   5.0|\n",
            "|     1|    235|   4.0|\n",
            "|     1|    260|   5.0|\n",
            "|     1|    296|   3.0|\n",
            "|     1|    316|   3.0|\n",
            "|     1|    333|   5.0|\n",
            "|     1|    349|   4.0|\n",
            "+------+-------+------+\n",
            "only showing top 20 rows\n",
            "\n"
          ]
        }
      ]
    },
    {
      "cell_type": "code",
      "source": [
        "# bar chart of ratings\n",
        "rating_count=movie_ratings.select('rating').groupBy('rating').count().toPandas()\n",
        "plt.figure(figsize=[12,6])\n",
        "plt.bar(x='rating',height='count',data=rating_count,width=0.5)\n",
        "plt.title('Ratings Distribution')\n",
        "plt.xticks(np.arange(0.5,5.5,0.5))\n",
        "plt.xlabel(\"Rating\")\n",
        "plt.ylabel(\"Count\")\n",
        "plt.show()"
      ],
      "metadata": {
        "colab": {
          "base_uri": "https://localhost:8080/",
          "height": 390
        },
        "id": "jcBBrr8tJ_TD",
        "outputId": "02d210e8-e54e-4feb-c288-44736918ac8e"
      },
      "execution_count": null,
      "outputs": [
        {
          "output_type": "display_data",
          "data": {
            "text/plain": [
              "<Figure size 864x432 with 1 Axes>"
            ],
            "image/png": "[encoded data removed]"
          },
          "metadata": {
            "needs_background": "light"
          }
        }
      ]
    },
    {
      "cell_type": "markdown",
      "metadata": {
        "id": "IBfAd44cQ0aj"
      },
      "source": [
        "## ALS Model Selection and Evaluation\n"
      ]
    },
    {
      "cell_type": "code",
      "metadata": {
        "id": "Wc9CF4YhQ5fq"
      },
      "source": [
        "# Import package\n",
        "from pyspark.ml.evaluation import RegressionEvaluator\n",
        "from pyspark.ml.recommendation import ALS\n",
        "from pyspark.ml.tuning import CrossValidator,ParamGridBuilder"
      ],
      "execution_count": null,
      "outputs": []
    },
    {
      "cell_type": "code",
      "metadata": {
        "id": "rGAdsCyeQ9Tk"
      },
      "source": [
        "#Create test and train set\n",
        "(training,test) = movie_ratings.randomSplit([0.8,0.2])"
      ],
      "execution_count": null,
      "outputs": []
    },
    {
      "cell_type": "code",
      "metadata": {
        "id": "zF7ee7xnQ-kX"
      },
      "source": [
        "#Create ALS model\n",
        "model_als = ALS(maxIter=5, rank=10, regParam=0.01, userCol=\"userId\", itemCol=\"movieId\", ratingCol=\"rating\",\n",
        "          coldStartStrategy=\"drop\", seed=6) "
      ],
      "execution_count": null,
      "outputs": []
    },
    {
      "cell_type": "code",
      "metadata": {
        "id": "_RGK-DMt1pzr"
      },
      "source": [
        "#Tune model using ParamGridBuilder\n",
        "params = ParamGridBuilder()\\\n",
        "            .addGrid(model_als.maxIter, [3, 5, 10])\\\n",
        "            .addGrid(model_als.regParam, [0.1, 0.01, 0.001])\\\n",
        "            .addGrid(model_als.rank, [5, 10, 15, 20, 25])\\\n",
        "            .addGrid(model_als.alpha, [0.1, 0.01, 0.001])\\\n",
        "            .build()\n",
        "\n",
        "# Define evaluator as RMSE\n",
        "evaluator = RegressionEvaluator(metricName=\"rmse\", labelCol=\"rating\",\n",
        "                                predictionCol=\"prediction\")\n",
        "\n",
        "\n",
        "# Build Cross validation \n",
        "cv = CrossValidator(estimator=model_als, estimatorParamMaps=params, evaluator=evaluator, numFolds=5, seed=6)\n",
        "\n",
        "\n",
        "#Fit ALS model to training data\n",
        "cvModel = cv.fit(training)\n",
        "\n",
        "\n",
        "#Extract best model from the tuning exercise using ParamGridBuilder\n",
        "bestModel=cvModel.bestModel"
      ],
      "execution_count": null,
      "outputs": []
    },
    {
      "cell_type": "code",
      "source": [
        "print(cvModel.avgMetrics)"
      ],
      "metadata": {
        "colab": {
          "base_uri": "https://localhost:8080/"
        },
        "id": "yXA6GIGvrBs-",
        "outputId": "7c96da79-7e93-4ef8-c0dc-ede4cfa92d10"
      },
      "execution_count": null,
      "outputs": [
        {
          "output_type": "stream",
          "name": "stdout",
          "text": [
            "[0.9240288384553914, 0.9240288384553907, 0.9240288384553912, 0.9300152171253373, 0.9300152171253373, 0.930015217125338, 0.9361281866093304, 0.9361281866093312, 0.9361281866093316, 0.9294629465884683, 0.9294629465884678, 0.929462946588468, 0.9242614630366679, 0.924261463036667, 0.9242614630366663, 1.096780268459558, 1.096780268459559, 1.0967802684595587, 1.1855837751128893, 1.1855837751128881, 1.1855837751128884, 1.2555394333491097, 1.2555394333491097, 1.2555394333491092, 1.3354035293058082, 1.3354035293058073, 1.3354035293058086, 1.391769873045948, 1.391769873045948, 1.3917698730459485, 1.4849789370146866, 1.484978937014687, 1.4849789370146862, 1.5130402305764505, 1.5130402305764497, 1.5130402305764503, 1.6417335687931858, 1.6417335687931875, 1.6417335687931893, 1.8352683017855131, 1.8352683017855123, 1.8352683017855123, 1.8864782263188422, 1.8864782263188442, 1.8864782263188427, 0.9100245838662573, 0.910024583866256, 0.9100245838662571, 0.91079707538748, 0.9107970753874804, 0.9107970753874811, 0.9134650593756377, 0.9134650593756368, 0.9134650593756372, 0.9096155766019148, 0.9096155766019152, 0.9096155766019138, 0.9095732097848876, 0.9095732097848876, 0.9095732097848873, 1.0582014899010932, 1.0582014899010945, 1.0582014899010928, 1.1506958782847212, 1.1506958782847212, 1.150695878284719, 1.21754398169368, 1.21754398169368, 1.21754398169368, 1.2905609405857814, 1.2905609405857814, 1.2905609405857814, 1.3637688624033442, 1.3637688624033446, 1.3637688624033442, 1.2320870444529008, 1.2320870444529017, 1.2320870444529008, 1.3799888754684746, 1.3799888754684746, 1.379988875468474, 1.4998847421820773, 1.4998847421820742, 1.4998847421820756, 1.653634272343117, 1.6536342723431166, 1.6536342723431177, 1.7569648482919056, 1.7569648482919051, 1.7569648482919051, 0.9056005902987245, 0.9056005902987256, 0.9056005902987252, 0.9063842414982108, 0.9063842414982102, 0.9063842414982106, 0.9071241331524356, 0.9071241331524347, 0.9071241331524359, 0.9049143439974862, 0.9049143439974867, 0.9049143439974865, 0.9044535113433207, 0.9044535113433213, 0.9044535113433216, 1.080580289928035, 1.0805802899280357, 1.0805802899280343, 1.1832797366363974, 1.1832797366363965, 1.1832797366363974, 1.250627676807454, 1.250627676807454, 1.2506276768074542, 1.3083255018314395, 1.3083255018314395, 1.3083255018314401, 1.3646632972859094, 1.3646632972859096, 1.3646632972859094, 1.276752813435976, 1.2767528134359756, 1.2767528134359742, 1.3938069445993027, 1.3938069445993027, 1.393806944599303, 1.4964938584485168, 1.496493858448515, 1.4964938584485177, 1.60242284507407, 1.6024228450740692, 1.6024228450740687, 1.7205053438360518, 1.7205053438360518, 1.7205053438360518]\n"
          ]
        }
      ]
    },
    {
      "cell_type": "code",
      "source": [
        "print(np.argmin(cvModel.avgMetrics))\n",
        "# min ALS"
      ],
      "metadata": {
        "colab": {
          "base_uri": "https://localhost:8080/"
        },
        "id": "gf_6JY1orwrG",
        "outputId": "fb335e3b-0ad9-47a6-955b-b9601dedafa4"
      },
      "execution_count": null,
      "outputs": [
        {
          "output_type": "stream",
          "name": "stdout",
          "text": [
            "102\n"
          ]
        }
      ]
    },
    {
      "cell_type": "code",
      "source": [
        "print(cvModel.getEstimatorParamMaps())"
      ],
      "metadata": {
        "colab": {
          "base_uri": "https://localhost:8080/"
        },
        "id": "xordSAxHsQ8d",
        "outputId": "125e8dd5-d41b-44d7-963b-44edf1b0b597"
      },
      "execution_count": null,
      "outputs": [
        {
          "output_type": "stream",
          "name": "stdout",
          "text": [
            "[{Param(parent='ALS_032f84a4e781', name='maxIter', doc='max number of iterations (>= 0).'): 3, Param(parent='ALS_032f84a4e781', name='regParam', doc='regularization parameter (>= 0).'): 0.1, Param(parent='ALS_032f84a4e781', name='rank', doc='rank of the factorization'): 5, Param(parent='ALS_032f84a4e781', name='alpha', doc='alpha for implicit preference'): 0.1}, {Param(parent='ALS_032f84a4e781', name='maxIter', doc='max number of iterations (>= 0).'): 3, Param(parent='ALS_032f84a4e781', name='regParam', doc='regularization parameter (>= 0).'): 0.1, Param(parent='ALS_032f84a4e781', name='rank', doc='rank of the factorization'): 5, Param(parent='ALS_032f84a4e781', name='alpha', doc='alpha for implicit preference'): 0.01}, {Param(parent='ALS_032f84a4e781', name='maxIter', doc='max number of iterations (>= 0).'): 3, Param(parent='ALS_032f84a4e781', name='regParam', doc='regularization parameter (>= 0).'): 0.1, Param(parent='ALS_032f84a4e781', name='rank', doc='rank of the factorization'): 5, Param(parent='ALS_032f84a4e781', name='alpha', doc='alpha for implicit preference'): 0.001}, {Param(parent='ALS_032f84a4e781', name='maxIter', doc='max number of iterations (>= 0).'): 3, Param(parent='ALS_032f84a4e781', name='regParam', doc='regularization parameter (>= 0).'): 0.1, Param(parent='ALS_032f84a4e781', name='rank', doc='rank of the factorization'): 10, Param(parent='ALS_032f84a4e781', name='alpha', doc='alpha for implicit preference'): 0.1}, {Param(parent='ALS_032f84a4e781', name='maxIter', doc='max number of iterations (>= 0).'): 3, Param(parent='ALS_032f84a4e781', name='regParam', doc='regularization parameter (>= 0).'): 0.1, Param(parent='ALS_032f84a4e781', name='rank', doc='rank of the factorization'): 10, Param(parent='ALS_032f84a4e781', name='alpha', doc='alpha for implicit preference'): 0.01}, {Param(parent='ALS_032f84a4e781', name='maxIter', doc='max number of iterations (>= 0).'): 3, Param(parent='ALS_032f84a4e781', name='regParam', doc='regularization parameter (>= 0).'): 0.1, Param(parent='ALS_032f84a4e781', name='rank', doc='rank of the factorization'): 10, Param(parent='ALS_032f84a4e781', name='alpha', doc='alpha for implicit preference'): 0.001}, {Param(parent='ALS_032f84a4e781', name='maxIter', doc='max number of iterations (>= 0).'): 3, Param(parent='ALS_032f84a4e781', name='regParam', doc='regularization parameter (>= 0).'): 0.1, Param(parent='ALS_032f84a4e781', name='rank', doc='rank of the factorization'): 15, Param(parent='ALS_032f84a4e781', name='alpha', doc='alpha for implicit preference'): 0.1}, {Param(parent='ALS_032f84a4e781', name='maxIter', doc='max number of iterations (>= 0).'): 3, Param(parent='ALS_032f84a4e781', name='regParam', doc='regularization parameter (>= 0).'): 0.1, Param(parent='ALS_032f84a4e781', name='rank', doc='rank of the factorization'): 15, Param(parent='ALS_032f84a4e781', name='alpha', doc='alpha for implicit preference'): 0.01}, {Param(parent='ALS_032f84a4e781', name='maxIter', doc='max number of iterations (>= 0).'): 3, Param(parent='ALS_032f84a4e781', name='regParam', doc='regularization parameter (>= 0).'): 0.1, Param(parent='ALS_032f84a4e781', name='rank', doc='rank of the factorization'): 15, Param(parent='ALS_032f84a4e781', name='alpha', doc='alpha for implicit preference'): 0.001}, {Param(parent='ALS_032f84a4e781', name='maxIter', doc='max number of iterations (>= 0).'): 3, Param(parent='ALS_032f84a4e781', name='regParam', doc='regularization parameter (>= 0).'): 0.1, Param(parent='ALS_032f84a4e781', name='rank', doc='rank of the factorization'): 20, Param(parent='ALS_032f84a4e781', name='alpha', doc='alpha for implicit preference'): 0.1}, {Param(parent='ALS_032f84a4e781', name='maxIter', doc='max number of iterations (>= 0).'): 3, Param(parent='ALS_032f84a4e781', name='regParam', doc='regularization parameter (>= 0).'): 0.1, Param(parent='ALS_032f84a4e781', name='rank', doc='rank of the factorization'): 20, Param(parent='ALS_032f84a4e781', name='alpha', doc='alpha for implicit preference'): 0.01}, {Param(parent='ALS_032f84a4e781', name='maxIter', doc='max number of iterations (>= 0).'): 3, Param(parent='ALS_032f84a4e781', name='regParam', doc='regularization parameter (>= 0).'): 0.1, Param(parent='ALS_032f84a4e781', name='rank', doc='rank of the factorization'): 20, Param(parent='ALS_032f84a4e781', name='alpha', doc='alpha for implicit preference'): 0.001}, {Param(parent='ALS_032f84a4e781', name='maxIter', doc='max number of iterations (>= 0).'): 3, Param(parent='ALS_032f84a4e781', name='regParam', doc='regularization parameter (>= 0).'): 0.1, Param(parent='ALS_032f84a4e781', name='rank', doc='rank of the factorization'): 25, Param(parent='ALS_032f84a4e781', name='alpha', doc='alpha for implicit preference'): 0.1}, {Param(parent='ALS_032f84a4e781', name='maxIter', doc='max number of iterations (>= 0).'): 3, Param(parent='ALS_032f84a4e781', name='regParam', doc='regularization parameter (>= 0).'): 0.1, Param(parent='ALS_032f84a4e781', name='rank', doc='rank of the factorization'): 25, Param(parent='ALS_032f84a4e781', name='alpha', doc='alpha for implicit preference'): 0.01}, {Param(parent='ALS_032f84a4e781', name='maxIter', doc='max number of iterations (>= 0).'): 3, Param(parent='ALS_032f84a4e781', name='regParam', doc='regularization parameter (>= 0).'): 0.1, Param(parent='ALS_032f84a4e781', name='rank', doc='rank of the factorization'): 25, Param(parent='ALS_032f84a4e781', name='alpha', doc='alpha for implicit preference'): 0.001}, {Param(parent='ALS_032f84a4e781', name='maxIter', doc='max number of iterations (>= 0).'): 3, Param(parent='ALS_032f84a4e781', name='regParam', doc='regularization parameter (>= 0).'): 0.01, Param(parent='ALS_032f84a4e781', name='rank', doc='rank of the factorization'): 5, Param(parent='ALS_032f84a4e781', name='alpha', doc='alpha for implicit preference'): 0.1}, {Param(parent='ALS_032f84a4e781', name='maxIter', doc='max number of iterations (>= 0).'): 3, Param(parent='ALS_032f84a4e781', name='regParam', doc='regularization parameter (>= 0).'): 0.01, Param(parent='ALS_032f84a4e781', name='rank', doc='rank of the factorization'): 5, Param(parent='ALS_032f84a4e781', name='alpha', doc='alpha for implicit preference'): 0.01}, {Param(parent='ALS_032f84a4e781', name='maxIter', doc='max number of iterations (>= 0).'): 3, Param(parent='ALS_032f84a4e781', name='regParam', doc='regularization parameter (>= 0).'): 0.01, Param(parent='ALS_032f84a4e781', name='rank', doc='rank of the factorization'): 5, Param(parent='ALS_032f84a4e781', name='alpha', doc='alpha for implicit preference'): 0.001}, {Param(parent='ALS_032f84a4e781', name='maxIter', doc='max number of iterations (>= 0).'): 3, Param(parent='ALS_032f84a4e781', name='regParam', doc='regularization parameter (>= 0).'): 0.01, Param(parent='ALS_032f84a4e781', name='rank', doc='rank of the factorization'): 10, Param(parent='ALS_032f84a4e781', name='alpha', doc='alpha for implicit preference'): 0.1}, {Param(parent='ALS_032f84a4e781', name='maxIter', doc='max number of iterations (>= 0).'): 3, Param(parent='ALS_032f84a4e781', name='regParam', doc='regularization parameter (>= 0).'): 0.01, Param(parent='ALS_032f84a4e781', name='rank', doc='rank of the factorization'): 10, Param(parent='ALS_032f84a4e781', name='alpha', doc='alpha for implicit preference'): 0.01}, {Param(parent='ALS_032f84a4e781', name='maxIter', doc='max number of iterations (>= 0).'): 3, Param(parent='ALS_032f84a4e781', name='regParam', doc='regularization parameter (>= 0).'): 0.01, Param(parent='ALS_032f84a4e781', name='rank', doc='rank of the factorization'): 10, Param(parent='ALS_032f84a4e781', name='alpha', doc='alpha for implicit preference'): 0.001}, {Param(parent='ALS_032f84a4e781', name='maxIter', doc='max number of iterations (>= 0).'): 3, Param(parent='ALS_032f84a4e781', name='regParam', doc='regularization parameter (>= 0).'): 0.01, Param(parent='ALS_032f84a4e781', name='rank', doc='rank of the factorization'): 15, Param(parent='ALS_032f84a4e781', name='alpha', doc='alpha for implicit preference'): 0.1}, {Param(parent='ALS_032f84a4e781', name='maxIter', doc='max number of iterations (>= 0).'): 3, Param(parent='ALS_032f84a4e781', name='regParam', doc='regularization parameter (>= 0).'): 0.01, Param(parent='ALS_032f84a4e781', name='rank', doc='rank of the factorization'): 15, Param(parent='ALS_032f84a4e781', name='alpha', doc='alpha for implicit preference'): 0.01}, {Param(parent='ALS_032f84a4e781', name='maxIter', doc='max number of iterations (>= 0).'): 3, Param(parent='ALS_032f84a4e781', name='regParam', doc='regularization parameter (>= 0).'): 0.01, Param(parent='ALS_032f84a4e781', name='rank', doc='rank of the factorization'): 15, Param(parent='ALS_032f84a4e781', name='alpha', doc='alpha for implicit preference'): 0.001}, {Param(parent='ALS_032f84a4e781', name='maxIter', doc='max number of iterations (>= 0).'): 3, Param(parent='ALS_032f84a4e781', name='regParam', doc='regularization parameter (>= 0).'): 0.01, Param(parent='ALS_032f84a4e781', name='rank', doc='rank of the factorization'): 20, Param(parent='ALS_032f84a4e781', name='alpha', doc='alpha for implicit preference'): 0.1}, {Param(parent='ALS_032f84a4e781', name='maxIter', doc='max number of iterations (>= 0).'): 3, Param(parent='ALS_032f84a4e781', name='regParam', doc='regularization parameter (>= 0).'): 0.01, Param(parent='ALS_032f84a4e781', name='rank', doc='rank of the factorization'): 20, Param(parent='ALS_032f84a4e781', name='alpha', doc='alpha for implicit preference'): 0.01}, {Param(parent='ALS_032f84a4e781', name='maxIter', doc='max number of iterations (>= 0).'): 3, Param(parent='ALS_032f84a4e781', name='regParam', doc='regularization parameter (>= 0).'): 0.01, Param(parent='ALS_032f84a4e781', name='rank', doc='rank of the factorization'): 20, Param(parent='ALS_032f84a4e781', name='alpha', doc='alpha for implicit preference'): 0.001}, {Param(parent='ALS_032f84a4e781', name='maxIter', doc='max number of iterations (>= 0).'): 3, Param(parent='ALS_032f84a4e781', name='regParam', doc='regularization parameter (>= 0).'): 0.01, Param(parent='ALS_032f84a4e781', name='rank', doc='rank of the factorization'): 25, Param(parent='ALS_032f84a4e781', name='alpha', doc='alpha for implicit preference'): 0.1}, {Param(parent='ALS_032f84a4e781', name='maxIter', doc='max number of iterations (>= 0).'): 3, Param(parent='ALS_032f84a4e781', name='regParam', doc='regularization parameter (>= 0).'): 0.01, Param(parent='ALS_032f84a4e781', name='rank', doc='rank of the factorization'): 25, Param(parent='ALS_032f84a4e781', name='alpha', doc='alpha for implicit preference'): 0.01}, {Param(parent='ALS_032f84a4e781', name='maxIter', doc='max number of iterations (>= 0).'): 3, Param(parent='ALS_032f84a4e781', name='regParam', doc='regularization parameter (>= 0).'): 0.01, Param(parent='ALS_032f84a4e781', name='rank', doc='rank of the factorization'): 25, Param(parent='ALS_032f84a4e781', name='alpha', doc='alpha for implicit preference'): 0.001}, {Param(parent='ALS_032f84a4e781', name='maxIter', doc='max number of iterations (>= 0).'): 3, Param(parent='ALS_032f84a4e781', name='regParam', doc='regularization parameter (>= 0).'): 0.001, Param(parent='ALS_032f84a4e781', name='rank', doc='rank of the factorization'): 5, Param(parent='ALS_032f84a4e781', name='alpha', doc='alpha for implicit preference'): 0.1}, {Param(parent='ALS_032f84a4e781', name='maxIter', doc='max number of iterations (>= 0).'): 3, Param(parent='ALS_032f84a4e781', name='regParam', doc='regularization parameter (>= 0).'): 0.001, Param(parent='ALS_032f84a4e781', name='rank', doc='rank of the factorization'): 5, Param(parent='ALS_032f84a4e781', name='alpha', doc='alpha for implicit preference'): 0.01}, {Param(parent='ALS_032f84a4e781', name='maxIter', doc='max number of iterations (>= 0).'): 3, Param(parent='ALS_032f84a4e781', name='regParam', doc='regularization parameter (>= 0).'): 0.001, Param(parent='ALS_032f84a4e781', name='rank', doc='rank of the factorization'): 5, Param(parent='ALS_032f84a4e781', name='alpha', doc='alpha for implicit preference'): 0.001}, {Param(parent='ALS_032f84a4e781', name='maxIter', doc='max number of iterations (>= 0).'): 3, Param(parent='ALS_032f84a4e781', name='regParam', doc='regularization parameter (>= 0).'): 0.001, Param(parent='ALS_032f84a4e781', name='rank', doc='rank of the factorization'): 10, Param(parent='ALS_032f84a4e781', name='alpha', doc='alpha for implicit preference'): 0.1}, {Param(parent='ALS_032f84a4e781', name='maxIter', doc='max number of iterations (>= 0).'): 3, Param(parent='ALS_032f84a4e781', name='regParam', doc='regularization parameter (>= 0).'): 0.001, Param(parent='ALS_032f84a4e781', name='rank', doc='rank of the factorization'): 10, Param(parent='ALS_032f84a4e781', name='alpha', doc='alpha for implicit preference'): 0.01}, {Param(parent='ALS_032f84a4e781', name='maxIter', doc='max number of iterations (>= 0).'): 3, Param(parent='ALS_032f84a4e781', name='regParam', doc='regularization parameter (>= 0).'): 0.001, Param(parent='ALS_032f84a4e781', name='rank', doc='rank of the factorization'): 10, Param(parent='ALS_032f84a4e781', name='alpha', doc='alpha for implicit preference'): 0.001}, {Param(parent='ALS_032f84a4e781', name='maxIter', doc='max number of iterations (>= 0).'): 3, Param(parent='ALS_032f84a4e781', name='regParam', doc='regularization parameter (>= 0).'): 0.001, Param(parent='ALS_032f84a4e781', name='rank', doc='rank of the factorization'): 15, Param(parent='ALS_032f84a4e781', name='alpha', doc='alpha for implicit preference'): 0.1}, {Param(parent='ALS_032f84a4e781', name='maxIter', doc='max number of iterations (>= 0).'): 3, Param(parent='ALS_032f84a4e781', name='regParam', doc='regularization parameter (>= 0).'): 0.001, Param(parent='ALS_032f84a4e781', name='rank', doc='rank of the factorization'): 15, Param(parent='ALS_032f84a4e781', name='alpha', doc='alpha for implicit preference'): 0.01}, {Param(parent='ALS_032f84a4e781', name='maxIter', doc='max number of iterations (>= 0).'): 3, Param(parent='ALS_032f84a4e781', name='regParam', doc='regularization parameter (>= 0).'): 0.001, Param(parent='ALS_032f84a4e781', name='rank', doc='rank of the factorization'): 15, Param(parent='ALS_032f84a4e781', name='alpha', doc='alpha for implicit preference'): 0.001}, {Param(parent='ALS_032f84a4e781', name='maxIter', doc='max number of iterations (>= 0).'): 3, Param(parent='ALS_032f84a4e781', name='regParam', doc='regularization parameter (>= 0).'): 0.001, Param(parent='ALS_032f84a4e781', name='rank', doc='rank of the factorization'): 20, Param(parent='ALS_032f84a4e781', name='alpha', doc='alpha for implicit preference'): 0.1}, {Param(parent='ALS_032f84a4e781', name='maxIter', doc='max number of iterations (>= 0).'): 3, Param(parent='ALS_032f84a4e781', name='regParam', doc='regularization parameter (>= 0).'): 0.001, Param(parent='ALS_032f84a4e781', name='rank', doc='rank of the factorization'): 20, Param(parent='ALS_032f84a4e781', name='alpha', doc='alpha for implicit preference'): 0.01}, {Param(parent='ALS_032f84a4e781', name='maxIter', doc='max number of iterations (>= 0).'): 3, Param(parent='ALS_032f84a4e781', name='regParam', doc='regularization parameter (>= 0).'): 0.001, Param(parent='ALS_032f84a4e781', name='rank', doc='rank of the factorization'): 20, Param(parent='ALS_032f84a4e781', name='alpha', doc='alpha for implicit preference'): 0.001}, {Param(parent='ALS_032f84a4e781', name='maxIter', doc='max number of iterations (>= 0).'): 3, Param(parent='ALS_032f84a4e781', name='regParam', doc='regularization parameter (>= 0).'): 0.001, Param(parent='ALS_032f84a4e781', name='rank', doc='rank of the factorization'): 25, Param(parent='ALS_032f84a4e781', name='alpha', doc='alpha for implicit preference'): 0.1}, {Param(parent='ALS_032f84a4e781', name='maxIter', doc='max number of iterations (>= 0).'): 3, Param(parent='ALS_032f84a4e781', name='regParam', doc='regularization parameter (>= 0).'): 0.001, Param(parent='ALS_032f84a4e781', name='rank', doc='rank of the factorization'): 25, Param(parent='ALS_032f84a4e781', name='alpha', doc='alpha for implicit preference'): 0.01}, {Param(parent='ALS_032f84a4e781', name='maxIter', doc='max number of iterations (>= 0).'): 3, Param(parent='ALS_032f84a4e781', name='regParam', doc='regularization parameter (>= 0).'): 0.001, Param(parent='ALS_032f84a4e781', name='rank', doc='rank of the factorization'): 25, Param(parent='ALS_032f84a4e781', name='alpha', doc='alpha for implicit preference'): 0.001}, {Param(parent='ALS_032f84a4e781', name='maxIter', doc='max number of iterations (>= 0).'): 5, Param(parent='ALS_032f84a4e781', name='regParam', doc='regularization parameter (>= 0).'): 0.1, Param(parent='ALS_032f84a4e781', name='rank', doc='rank of the factorization'): 5, Param(parent='ALS_032f84a4e781', name='alpha', doc='alpha for implicit preference'): 0.1}, {Param(parent='ALS_032f84a4e781', name='maxIter', doc='max number of iterations (>= 0).'): 5, Param(parent='ALS_032f84a4e781', name='regParam', doc='regularization parameter (>= 0).'): 0.1, Param(parent='ALS_032f84a4e781', name='rank', doc='rank of the factorization'): 5, Param(parent='ALS_032f84a4e781', name='alpha', doc='alpha for implicit preference'): 0.01}, {Param(parent='ALS_032f84a4e781', name='maxIter', doc='max number of iterations (>= 0).'): 5, Param(parent='ALS_032f84a4e781', name='regParam', doc='regularization parameter (>= 0).'): 0.1, Param(parent='ALS_032f84a4e781', name='rank', doc='rank of the factorization'): 5, Param(parent='ALS_032f84a4e781', name='alpha', doc='alpha for implicit preference'): 0.001}, {Param(parent='ALS_032f84a4e781', name='maxIter', doc='max number of iterations (>= 0).'): 5, Param(parent='ALS_032f84a4e781', name='regParam', doc='regularization parameter (>= 0).'): 0.1, Param(parent='ALS_032f84a4e781', name='rank', doc='rank of the factorization'): 10, Param(parent='ALS_032f84a4e781', name='alpha', doc='alpha for implicit preference'): 0.1}, {Param(parent='ALS_032f84a4e781', name='maxIter', doc='max number of iterations (>= 0).'): 5, Param(parent='ALS_032f84a4e781', name='regParam', doc='regularization parameter (>= 0).'): 0.1, Param(parent='ALS_032f84a4e781', name='rank', doc='rank of the factorization'): 10, Param(parent='ALS_032f84a4e781', name='alpha', doc='alpha for implicit preference'): 0.01}, {Param(parent='ALS_032f84a4e781', name='maxIter', doc='max number of iterations (>= 0).'): 5, Param(parent='ALS_032f84a4e781', name='regParam', doc='regularization parameter (>= 0).'): 0.1, Param(parent='ALS_032f84a4e781', name='rank', doc='rank of the factorization'): 10, Param(parent='ALS_032f84a4e781', name='alpha', doc='alpha for implicit preference'): 0.001}, {Param(parent='ALS_032f84a4e781', name='maxIter', doc='max number of iterations (>= 0).'): 5, Param(parent='ALS_032f84a4e781', name='regParam', doc='regularization parameter (>= 0).'): 0.1, Param(parent='ALS_032f84a4e781', name='rank', doc='rank of the factorization'): 15, Param(parent='ALS_032f84a4e781', name='alpha', doc='alpha for implicit preference'): 0.1}, {Param(parent='ALS_032f84a4e781', name='maxIter', doc='max number of iterations (>= 0).'): 5, Param(parent='ALS_032f84a4e781', name='regParam', doc='regularization parameter (>= 0).'): 0.1, Param(parent='ALS_032f84a4e781', name='rank', doc='rank of the factorization'): 15, Param(parent='ALS_032f84a4e781', name='alpha', doc='alpha for implicit preference'): 0.01}, {Param(parent='ALS_032f84a4e781', name='maxIter', doc='max number of iterations (>= 0).'): 5, Param(parent='ALS_032f84a4e781', name='regParam', doc='regularization parameter (>= 0).'): 0.1, Param(parent='ALS_032f84a4e781', name='rank', doc='rank of the factorization'): 15, Param(parent='ALS_032f84a4e781', name='alpha', doc='alpha for implicit preference'): 0.001}, {Param(parent='ALS_032f84a4e781', name='maxIter', doc='max number of iterations (>= 0).'): 5, Param(parent='ALS_032f84a4e781', name='regParam', doc='regularization parameter (>= 0).'): 0.1, Param(parent='ALS_032f84a4e781', name='rank', doc='rank of the factorization'): 20, Param(parent='ALS_032f84a4e781', name='alpha', doc='alpha for implicit preference'): 0.1}, {Param(parent='ALS_032f84a4e781', name='maxIter', doc='max number of iterations (>= 0).'): 5, Param(parent='ALS_032f84a4e781', name='regParam', doc='regularization parameter (>= 0).'): 0.1, Param(parent='ALS_032f84a4e781', name='rank', doc='rank of the factorization'): 20, Param(parent='ALS_032f84a4e781', name='alpha', doc='alpha for implicit preference'): 0.01}, {Param(parent='ALS_032f84a4e781', name='maxIter', doc='max number of iterations (>= 0).'): 5, Param(parent='ALS_032f84a4e781', name='regParam', doc='regularization parameter (>= 0).'): 0.1, Param(parent='ALS_032f84a4e781', name='rank', doc='rank of the factorization'): 20, Param(parent='ALS_032f84a4e781', name='alpha', doc='alpha for implicit preference'): 0.001}, {Param(parent='ALS_032f84a4e781', name='maxIter', doc='max number of iterations (>= 0).'): 5, Param(parent='ALS_032f84a4e781', name='regParam', doc='regularization parameter (>= 0).'): 0.1, Param(parent='ALS_032f84a4e781', name='rank', doc='rank of the factorization'): 25, Param(parent='ALS_032f84a4e781', name='alpha', doc='alpha for implicit preference'): 0.1}, {Param(parent='ALS_032f84a4e781', name='maxIter', doc='max number of iterations (>= 0).'): 5, Param(parent='ALS_032f84a4e781', name='regParam', doc='regularization parameter (>= 0).'): 0.1, Param(parent='ALS_032f84a4e781', name='rank', doc='rank of the factorization'): 25, Param(parent='ALS_032f84a4e781', name='alpha', doc='alpha for implicit preference'): 0.01}, {Param(parent='ALS_032f84a4e781', name='maxIter', doc='max number of iterations (>= 0).'): 5, Param(parent='ALS_032f84a4e781', name='regParam', doc='regularization parameter (>= 0).'): 0.1, Param(parent='ALS_032f84a4e781', name='rank', doc='rank of the factorization'): 25, Param(parent='ALS_032f84a4e781', name='alpha', doc='alpha for implicit preference'): 0.001}, {Param(parent='ALS_032f84a4e781', name='maxIter', doc='max number of iterations (>= 0).'): 5, Param(parent='ALS_032f84a4e781', name='regParam', doc='regularization parameter (>= 0).'): 0.01, Param(parent='ALS_032f84a4e781', name='rank', doc='rank of the factorization'): 5, Param(parent='ALS_032f84a4e781', name='alpha', doc='alpha for implicit preference'): 0.1}, {Param(parent='ALS_032f84a4e781', name='maxIter', doc='max number of iterations (>= 0).'): 5, Param(parent='ALS_032f84a4e781', name='regParam', doc='regularization parameter (>= 0).'): 0.01, Param(parent='ALS_032f84a4e781', name='rank', doc='rank of the factorization'): 5, Param(parent='ALS_032f84a4e781', name='alpha', doc='alpha for implicit preference'): 0.01}, {Param(parent='ALS_032f84a4e781', name='maxIter', doc='max number of iterations (>= 0).'): 5, Param(parent='ALS_032f84a4e781', name='regParam', doc='regularization parameter (>= 0).'): 0.01, Param(parent='ALS_032f84a4e781', name='rank', doc='rank of the factorization'): 5, Param(parent='ALS_032f84a4e781', name='alpha', doc='alpha for implicit preference'): 0.001}, {Param(parent='ALS_032f84a4e781', name='maxIter', doc='max number of iterations (>= 0).'): 5, Param(parent='ALS_032f84a4e781', name='regParam', doc='regularization parameter (>= 0).'): 0.01, Param(parent='ALS_032f84a4e781', name='rank', doc='rank of the factorization'): 10, Param(parent='ALS_032f84a4e781', name='alpha', doc='alpha for implicit preference'): 0.1}, {Param(parent='ALS_032f84a4e781', name='maxIter', doc='max number of iterations (>= 0).'): 5, Param(parent='ALS_032f84a4e781', name='regParam', doc='regularization parameter (>= 0).'): 0.01, Param(parent='ALS_032f84a4e781', name='rank', doc='rank of the factorization'): 10, Param(parent='ALS_032f84a4e781', name='alpha', doc='alpha for implicit preference'): 0.01}, {Param(parent='ALS_032f84a4e781', name='maxIter', doc='max number of iterations (>= 0).'): 5, Param(parent='ALS_032f84a4e781', name='regParam', doc='regularization parameter (>= 0).'): 0.01, Param(parent='ALS_032f84a4e781', name='rank', doc='rank of the factorization'): 10, Param(parent='ALS_032f84a4e781', name='alpha', doc='alpha for implicit preference'): 0.001}, {Param(parent='ALS_032f84a4e781', name='maxIter', doc='max number of iterations (>= 0).'): 5, Param(parent='ALS_032f84a4e781', name='regParam', doc='regularization parameter (>= 0).'): 0.01, Param(parent='ALS_032f84a4e781', name='rank', doc='rank of the factorization'): 15, Param(parent='ALS_032f84a4e781', name='alpha', doc='alpha for implicit preference'): 0.1}, {Param(parent='ALS_032f84a4e781', name='maxIter', doc='max number of iterations (>= 0).'): 5, Param(parent='ALS_032f84a4e781', name='regParam', doc='regularization parameter (>= 0).'): 0.01, Param(parent='ALS_032f84a4e781', name='rank', doc='rank of the factorization'): 15, Param(parent='ALS_032f84a4e781', name='alpha', doc='alpha for implicit preference'): 0.01}, {Param(parent='ALS_032f84a4e781', name='maxIter', doc='max number of iterations (>= 0).'): 5, Param(parent='ALS_032f84a4e781', name='regParam', doc='regularization parameter (>= 0).'): 0.01, Param(parent='ALS_032f84a4e781', name='rank', doc='rank of the factorization'): 15, Param(parent='ALS_032f84a4e781', name='alpha', doc='alpha for implicit preference'): 0.001}, {Param(parent='ALS_032f84a4e781', name='maxIter', doc='max number of iterations (>= 0).'): 5, Param(parent='ALS_032f84a4e781', name='regParam', doc='regularization parameter (>= 0).'): 0.01, Param(parent='ALS_032f84a4e781', name='rank', doc='rank of the factorization'): 20, Param(parent='ALS_032f84a4e781', name='alpha', doc='alpha for implicit preference'): 0.1}, {Param(parent='ALS_032f84a4e781', name='maxIter', doc='max number of iterations (>= 0).'): 5, Param(parent='ALS_032f84a4e781', name='regParam', doc='regularization parameter (>= 0).'): 0.01, Param(parent='ALS_032f84a4e781', name='rank', doc='rank of the factorization'): 20, Param(parent='ALS_032f84a4e781', name='alpha', doc='alpha for implicit preference'): 0.01}, {Param(parent='ALS_032f84a4e781', name='maxIter', doc='max number of iterations (>= 0).'): 5, Param(parent='ALS_032f84a4e781', name='regParam', doc='regularization parameter (>= 0).'): 0.01, Param(parent='ALS_032f84a4e781', name='rank', doc='rank of the factorization'): 20, Param(parent='ALS_032f84a4e781', name='alpha', doc='alpha for implicit preference'): 0.001}, {Param(parent='ALS_032f84a4e781', name='maxIter', doc='max number of iterations (>= 0).'): 5, Param(parent='ALS_032f84a4e781', name='regParam', doc='regularization parameter (>= 0).'): 0.01, Param(parent='ALS_032f84a4e781', name='rank', doc='rank of the factorization'): 25, Param(parent='ALS_032f84a4e781', name='alpha', doc='alpha for implicit preference'): 0.1}, {Param(parent='ALS_032f84a4e781', name='maxIter', doc='max number of iterations (>= 0).'): 5, Param(parent='ALS_032f84a4e781', name='regParam', doc='regularization parameter (>= 0).'): 0.01, Param(parent='ALS_032f84a4e781', name='rank', doc='rank of the factorization'): 25, Param(parent='ALS_032f84a4e781', name='alpha', doc='alpha for implicit preference'): 0.01}, {Param(parent='ALS_032f84a4e781', name='maxIter', doc='max number of iterations (>= 0).'): 5, Param(parent='ALS_032f84a4e781', name='regParam', doc='regularization parameter (>= 0).'): 0.01, Param(parent='ALS_032f84a4e781', name='rank', doc='rank of the factorization'): 25, Param(parent='ALS_032f84a4e781', name='alpha', doc='alpha for implicit preference'): 0.001}, {Param(parent='ALS_032f84a4e781', name='maxIter', doc='max number of iterations (>= 0).'): 5, Param(parent='ALS_032f84a4e781', name='regParam', doc='regularization parameter (>= 0).'): 0.001, Param(parent='ALS_032f84a4e781', name='rank', doc='rank of the factorization'): 5, Param(parent='ALS_032f84a4e781', name='alpha', doc='alpha for implicit preference'): 0.1}, {Param(parent='ALS_032f84a4e781', name='maxIter', doc='max number of iterations (>= 0).'): 5, Param(parent='ALS_032f84a4e781', name='regParam', doc='regularization parameter (>= 0).'): 0.001, Param(parent='ALS_032f84a4e781', name='rank', doc='rank of the factorization'): 5, Param(parent='ALS_032f84a4e781', name='alpha', doc='alpha for implicit preference'): 0.01}, {Param(parent='ALS_032f84a4e781', name='maxIter', doc='max number of iterations (>= 0).'): 5, Param(parent='ALS_032f84a4e781', name='regParam', doc='regularization parameter (>= 0).'): 0.001, Param(parent='ALS_032f84a4e781', name='rank', doc='rank of the factorization'): 5, Param(parent='ALS_032f84a4e781', name='alpha', doc='alpha for implicit preference'): 0.001}, {Param(parent='ALS_032f84a4e781', name='maxIter', doc='max number of iterations (>= 0).'): 5, Param(parent='ALS_032f84a4e781', name='regParam', doc='regularization parameter (>= 0).'): 0.001, Param(parent='ALS_032f84a4e781', name='rank', doc='rank of the factorization'): 10, Param(parent='ALS_032f84a4e781', name='alpha', doc='alpha for implicit preference'): 0.1}, {Param(parent='ALS_032f84a4e781', name='maxIter', doc='max number of iterations (>= 0).'): 5, Param(parent='ALS_032f84a4e781', name='regParam', doc='regularization parameter (>= 0).'): 0.001, Param(parent='ALS_032f84a4e781', name='rank', doc='rank of the factorization'): 10, Param(parent='ALS_032f84a4e781', name='alpha', doc='alpha for implicit preference'): 0.01}, {Param(parent='ALS_032f84a4e781', name='maxIter', doc='max number of iterations (>= 0).'): 5, Param(parent='ALS_032f84a4e781', name='regParam', doc='regularization parameter (>= 0).'): 0.001, Param(parent='ALS_032f84a4e781', name='rank', doc='rank of the factorization'): 10, Param(parent='ALS_032f84a4e781', name='alpha', doc='alpha for implicit preference'): 0.001}, {Param(parent='ALS_032f84a4e781', name='maxIter', doc='max number of iterations (>= 0).'): 5, Param(parent='ALS_032f84a4e781', name='regParam', doc='regularization parameter (>= 0).'): 0.001, Param(parent='ALS_032f84a4e781', name='rank', doc='rank of the factorization'): 15, Param(parent='ALS_032f84a4e781', name='alpha', doc='alpha for implicit preference'): 0.1}, {Param(parent='ALS_032f84a4e781', name='maxIter', doc='max number of iterations (>= 0).'): 5, Param(parent='ALS_032f84a4e781', name='regParam', doc='regularization parameter (>= 0).'): 0.001, Param(parent='ALS_032f84a4e781', name='rank', doc='rank of the factorization'): 15, Param(parent='ALS_032f84a4e781', name='alpha', doc='alpha for implicit preference'): 0.01}, {Param(parent='ALS_032f84a4e781', name='maxIter', doc='max number of iterations (>= 0).'): 5, Param(parent='ALS_032f84a4e781', name='regParam', doc='regularization parameter (>= 0).'): 0.001, Param(parent='ALS_032f84a4e781', name='rank', doc='rank of the factorization'): 15, Param(parent='ALS_032f84a4e781', name='alpha', doc='alpha for implicit preference'): 0.001}, {Param(parent='ALS_032f84a4e781', name='maxIter', doc='max number of iterations (>= 0).'): 5, Param(parent='ALS_032f84a4e781', name='regParam', doc='regularization parameter (>= 0).'): 0.001, Param(parent='ALS_032f84a4e781', name='rank', doc='rank of the factorization'): 20, Param(parent='ALS_032f84a4e781', name='alpha', doc='alpha for implicit preference'): 0.1}, {Param(parent='ALS_032f84a4e781', name='maxIter', doc='max number of iterations (>= 0).'): 5, Param(parent='ALS_032f84a4e781', name='regParam', doc='regularization parameter (>= 0).'): 0.001, Param(parent='ALS_032f84a4e781', name='rank', doc='rank of the factorization'): 20, Param(parent='ALS_032f84a4e781', name='alpha', doc='alpha for implicit preference'): 0.01}, {Param(parent='ALS_032f84a4e781', name='maxIter', doc='max number of iterations (>= 0).'): 5, Param(parent='ALS_032f84a4e781', name='regParam', doc='regularization parameter (>= 0).'): 0.001, Param(parent='ALS_032f84a4e781', name='rank', doc='rank of the factorization'): 20, Param(parent='ALS_032f84a4e781', name='alpha', doc='alpha for implicit preference'): 0.001}, {Param(parent='ALS_032f84a4e781', name='maxIter', doc='max number of iterations (>= 0).'): 5, Param(parent='ALS_032f84a4e781', name='regParam', doc='regularization parameter (>= 0).'): 0.001, Param(parent='ALS_032f84a4e781', name='rank', doc='rank of the factorization'): 25, Param(parent='ALS_032f84a4e781', name='alpha', doc='alpha for implicit preference'): 0.1}, {Param(parent='ALS_032f84a4e781', name='maxIter', doc='max number of iterations (>= 0).'): 5, Param(parent='ALS_032f84a4e781', name='regParam', doc='regularization parameter (>= 0).'): 0.001, Param(parent='ALS_032f84a4e781', name='rank', doc='rank of the factorization'): 25, Param(parent='ALS_032f84a4e781', name='alpha', doc='alpha for implicit preference'): 0.01}, {Param(parent='ALS_032f84a4e781', name='maxIter', doc='max number of iterations (>= 0).'): 5, Param(parent='ALS_032f84a4e781', name='regParam', doc='regularization parameter (>= 0).'): 0.001, Param(parent='ALS_032f84a4e781', name='rank', doc='rank of the factorization'): 25, Param(parent='ALS_032f84a4e781', name='alpha', doc='alpha for implicit preference'): 0.001}, {Param(parent='ALS_032f84a4e781', name='maxIter', doc='max number of iterations (>= 0).'): 10, Param(parent='ALS_032f84a4e781', name='regParam', doc='regularization parameter (>= 0).'): 0.1, Param(parent='ALS_032f84a4e781', name='rank', doc='rank of the factorization'): 5, Param(parent='ALS_032f84a4e781', name='alpha', doc='alpha for implicit preference'): 0.1}, {Param(parent='ALS_032f84a4e781', name='maxIter', doc='max number of iterations (>= 0).'): 10, Param(parent='ALS_032f84a4e781', name='regParam', doc='regularization parameter (>= 0).'): 0.1, Param(parent='ALS_032f84a4e781', name='rank', doc='rank of the factorization'): 5, Param(parent='ALS_032f84a4e781', name='alpha', doc='alpha for implicit preference'): 0.01}, {Param(parent='ALS_032f84a4e781', name='maxIter', doc='max number of iterations (>= 0).'): 10, Param(parent='ALS_032f84a4e781', name='regParam', doc='regularization parameter (>= 0).'): 0.1, Param(parent='ALS_032f84a4e781', name='rank', doc='rank of the factorization'): 5, Param(parent='ALS_032f84a4e781', name='alpha', doc='alpha for implicit preference'): 0.001}, {Param(parent='ALS_032f84a4e781', name='maxIter', doc='max number of iterations (>= 0).'): 10, Param(parent='ALS_032f84a4e781', name='regParam', doc='regularization parameter (>= 0).'): 0.1, Param(parent='ALS_032f84a4e781', name='rank', doc='rank of the factorization'): 10, Param(parent='ALS_032f84a4e781', name='alpha', doc='alpha for implicit preference'): 0.1}, {Param(parent='ALS_032f84a4e781', name='maxIter', doc='max number of iterations (>= 0).'): 10, Param(parent='ALS_032f84a4e781', name='regParam', doc='regularization parameter (>= 0).'): 0.1, Param(parent='ALS_032f84a4e781', name='rank', doc='rank of the factorization'): 10, Param(parent='ALS_032f84a4e781', name='alpha', doc='alpha for implicit preference'): 0.01}, {Param(parent='ALS_032f84a4e781', name='maxIter', doc='max number of iterations (>= 0).'): 10, Param(parent='ALS_032f84a4e781', name='regParam', doc='regularization parameter (>= 0).'): 0.1, Param(parent='ALS_032f84a4e781', name='rank', doc='rank of the factorization'): 10, Param(parent='ALS_032f84a4e781', name='alpha', doc='alpha for implicit preference'): 0.001}, {Param(parent='ALS_032f84a4e781', name='maxIter', doc='max number of iterations (>= 0).'): 10, Param(parent='ALS_032f84a4e781', name='regParam', doc='regularization parameter (>= 0).'): 0.1, Param(parent='ALS_032f84a4e781', name='rank', doc='rank of the factorization'): 15, Param(parent='ALS_032f84a4e781', name='alpha', doc='alpha for implicit preference'): 0.1}, {Param(parent='ALS_032f84a4e781', name='maxIter', doc='max number of iterations (>= 0).'): 10, Param(parent='ALS_032f84a4e781', name='regParam', doc='regularization parameter (>= 0).'): 0.1, Param(parent='ALS_032f84a4e781', name='rank', doc='rank of the factorization'): 15, Param(parent='ALS_032f84a4e781', name='alpha', doc='alpha for implicit preference'): 0.01}, {Param(parent='ALS_032f84a4e781', name='maxIter', doc='max number of iterations (>= 0).'): 10, Param(parent='ALS_032f84a4e781', name='regParam', doc='regularization parameter (>= 0).'): 0.1, Param(parent='ALS_032f84a4e781', name='rank', doc='rank of the factorization'): 15, Param(parent='ALS_032f84a4e781', name='alpha', doc='alpha for implicit preference'): 0.001}, {Param(parent='ALS_032f84a4e781', name='maxIter', doc='max number of iterations (>= 0).'): 10, Param(parent='ALS_032f84a4e781', name='regParam', doc='regularization parameter (>= 0).'): 0.1, Param(parent='ALS_032f84a4e781', name='rank', doc='rank of the factorization'): 20, Param(parent='ALS_032f84a4e781', name='alpha', doc='alpha for implicit preference'): 0.1}, {Param(parent='ALS_032f84a4e781', name='maxIter', doc='max number of iterations (>= 0).'): 10, Param(parent='ALS_032f84a4e781', name='regParam', doc='regularization parameter (>= 0).'): 0.1, Param(parent='ALS_032f84a4e781', name='rank', doc='rank of the factorization'): 20, Param(parent='ALS_032f84a4e781', name='alpha', doc='alpha for implicit preference'): 0.01}, {Param(parent='ALS_032f84a4e781', name='maxIter', doc='max number of iterations (>= 0).'): 10, Param(parent='ALS_032f84a4e781', name='regParam', doc='regularization parameter (>= 0).'): 0.1, Param(parent='ALS_032f84a4e781', name='rank', doc='rank of the factorization'): 20, Param(parent='ALS_032f84a4e781', name='alpha', doc='alpha for implicit preference'): 0.001}, {Param(parent='ALS_032f84a4e781', name='maxIter', doc='max number of iterations (>= 0).'): 10, Param(parent='ALS_032f84a4e781', name='regParam', doc='regularization parameter (>= 0).'): 0.1, Param(parent='ALS_032f84a4e781', name='rank', doc='rank of the factorization'): 25, Param(parent='ALS_032f84a4e781', name='alpha', doc='alpha for implicit preference'): 0.1}, {Param(parent='ALS_032f84a4e781', name='maxIter', doc='max number of iterations (>= 0).'): 10, Param(parent='ALS_032f84a4e781', name='regParam', doc='regularization parameter (>= 0).'): 0.1, Param(parent='ALS_032f84a4e781', name='rank', doc='rank of the factorization'): 25, Param(parent='ALS_032f84a4e781', name='alpha', doc='alpha for implicit preference'): 0.01}, {Param(parent='ALS_032f84a4e781', name='maxIter', doc='max number of iterations (>= 0).'): 10, Param(parent='ALS_032f84a4e781', name='regParam', doc='regularization parameter (>= 0).'): 0.1, Param(parent='ALS_032f84a4e781', name='rank', doc='rank of the factorization'): 25, Param(parent='ALS_032f84a4e781', name='alpha', doc='alpha for implicit preference'): 0.001}, {Param(parent='ALS_032f84a4e781', name='maxIter', doc='max number of iterations (>= 0).'): 10, Param(parent='ALS_032f84a4e781', name='regParam', doc='regularization parameter (>= 0).'): 0.01, Param(parent='ALS_032f84a4e781', name='rank', doc='rank of the factorization'): 5, Param(parent='ALS_032f84a4e781', name='alpha', doc='alpha for implicit preference'): 0.1}, {Param(parent='ALS_032f84a4e781', name='maxIter', doc='max number of iterations (>= 0).'): 10, Param(parent='ALS_032f84a4e781', name='regParam', doc='regularization parameter (>= 0).'): 0.01, Param(parent='ALS_032f84a4e781', name='rank', doc='rank of the factorization'): 5, Param(parent='ALS_032f84a4e781', name='alpha', doc='alpha for implicit preference'): 0.01}, {Param(parent='ALS_032f84a4e781', name='maxIter', doc='max number of iterations (>= 0).'): 10, Param(parent='ALS_032f84a4e781', name='regParam', doc='regularization parameter (>= 0).'): 0.01, Param(parent='ALS_032f84a4e781', name='rank', doc='rank of the factorization'): 5, Param(parent='ALS_032f84a4e781', name='alpha', doc='alpha for implicit preference'): 0.001}, {Param(parent='ALS_032f84a4e781', name='maxIter', doc='max number of iterations (>= 0).'): 10, Param(parent='ALS_032f84a4e781', name='regParam', doc='regularization parameter (>= 0).'): 0.01, Param(parent='ALS_032f84a4e781', name='rank', doc='rank of the factorization'): 10, Param(parent='ALS_032f84a4e781', name='alpha', doc='alpha for implicit preference'): 0.1}, {Param(parent='ALS_032f84a4e781', name='maxIter', doc='max number of iterations (>= 0).'): 10, Param(parent='ALS_032f84a4e781', name='regParam', doc='regularization parameter (>= 0).'): 0.01, Param(parent='ALS_032f84a4e781', name='rank', doc='rank of the factorization'): 10, Param(parent='ALS_032f84a4e781', name='alpha', doc='alpha for implicit preference'): 0.01}, {Param(parent='ALS_032f84a4e781', name='maxIter', doc='max number of iterations (>= 0).'): 10, Param(parent='ALS_032f84a4e781', name='regParam', doc='regularization parameter (>= 0).'): 0.01, Param(parent='ALS_032f84a4e781', name='rank', doc='rank of the factorization'): 10, Param(parent='ALS_032f84a4e781', name='alpha', doc='alpha for implicit preference'): 0.001}, {Param(parent='ALS_032f84a4e781', name='maxIter', doc='max number of iterations (>= 0).'): 10, Param(parent='ALS_032f84a4e781', name='regParam', doc='regularization parameter (>= 0).'): 0.01, Param(parent='ALS_032f84a4e781', name='rank', doc='rank of the factorization'): 15, Param(parent='ALS_032f84a4e781', name='alpha', doc='alpha for implicit preference'): 0.1}, {Param(parent='ALS_032f84a4e781', name='maxIter', doc='max number of iterations (>= 0).'): 10, Param(parent='ALS_032f84a4e781', name='regParam', doc='regularization parameter (>= 0).'): 0.01, Param(parent='ALS_032f84a4e781', name='rank', doc='rank of the factorization'): 15, Param(parent='ALS_032f84a4e781', name='alpha', doc='alpha for implicit preference'): 0.01}, {Param(parent='ALS_032f84a4e781', name='maxIter', doc='max number of iterations (>= 0).'): 10, Param(parent='ALS_032f84a4e781', name='regParam', doc='regularization parameter (>= 0).'): 0.01, Param(parent='ALS_032f84a4e781', name='rank', doc='rank of the factorization'): 15, Param(parent='ALS_032f84a4e781', name='alpha', doc='alpha for implicit preference'): 0.001}, {Param(parent='ALS_032f84a4e781', name='maxIter', doc='max number of iterations (>= 0).'): 10, Param(parent='ALS_032f84a4e781', name='regParam', doc='regularization parameter (>= 0).'): 0.01, Param(parent='ALS_032f84a4e781', name='rank', doc='rank of the factorization'): 20, Param(parent='ALS_032f84a4e781', name='alpha', doc='alpha for implicit preference'): 0.1}, {Param(parent='ALS_032f84a4e781', name='maxIter', doc='max number of iterations (>= 0).'): 10, Param(parent='ALS_032f84a4e781', name='regParam', doc='regularization parameter (>= 0).'): 0.01, Param(parent='ALS_032f84a4e781', name='rank', doc='rank of the factorization'): 20, Param(parent='ALS_032f84a4e781', name='alpha', doc='alpha for implicit preference'): 0.01}, {Param(parent='ALS_032f84a4e781', name='maxIter', doc='max number of iterations (>= 0).'): 10, Param(parent='ALS_032f84a4e781', name='regParam', doc='regularization parameter (>= 0).'): 0.01, Param(parent='ALS_032f84a4e781', name='rank', doc='rank of the factorization'): 20, Param(parent='ALS_032f84a4e781', name='alpha', doc='alpha for implicit preference'): 0.001}, {Param(parent='ALS_032f84a4e781', name='maxIter', doc='max number of iterations (>= 0).'): 10, Param(parent='ALS_032f84a4e781', name='regParam', doc='regularization parameter (>= 0).'): 0.01, Param(parent='ALS_032f84a4e781', name='rank', doc='rank of the factorization'): 25, Param(parent='ALS_032f84a4e781', name='alpha', doc='alpha for implicit preference'): 0.1}, {Param(parent='ALS_032f84a4e781', name='maxIter', doc='max number of iterations (>= 0).'): 10, Param(parent='ALS_032f84a4e781', name='regParam', doc='regularization parameter (>= 0).'): 0.01, Param(parent='ALS_032f84a4e781', name='rank', doc='rank of the factorization'): 25, Param(parent='ALS_032f84a4e781', name='alpha', doc='alpha for implicit preference'): 0.01}, {Param(parent='ALS_032f84a4e781', name='maxIter', doc='max number of iterations (>= 0).'): 10, Param(parent='ALS_032f84a4e781', name='regParam', doc='regularization parameter (>= 0).'): 0.01, Param(parent='ALS_032f84a4e781', name='rank', doc='rank of the factorization'): 25, Param(parent='ALS_032f84a4e781', name='alpha', doc='alpha for implicit preference'): 0.001}, {Param(parent='ALS_032f84a4e781', name='maxIter', doc='max number of iterations (>= 0).'): 10, Param(parent='ALS_032f84a4e781', name='regParam', doc='regularization parameter (>= 0).'): 0.001, Param(parent='ALS_032f84a4e781', name='rank', doc='rank of the factorization'): 5, Param(parent='ALS_032f84a4e781', name='alpha', doc='alpha for implicit preference'): 0.1}, {Param(parent='ALS_032f84a4e781', name='maxIter', doc='max number of iterations (>= 0).'): 10, Param(parent='ALS_032f84a4e781', name='regParam', doc='regularization parameter (>= 0).'): 0.001, Param(parent='ALS_032f84a4e781', name='rank', doc='rank of the factorization'): 5, Param(parent='ALS_032f84a4e781', name='alpha', doc='alpha for implicit preference'): 0.01}, {Param(parent='ALS_032f84a4e781', name='maxIter', doc='max number of iterations (>= 0).'): 10, Param(parent='ALS_032f84a4e781', name='regParam', doc='regularization parameter (>= 0).'): 0.001, Param(parent='ALS_032f84a4e781', name='rank', doc='rank of the factorization'): 5, Param(parent='ALS_032f84a4e781', name='alpha', doc='alpha for implicit preference'): 0.001}, {Param(parent='ALS_032f84a4e781', name='maxIter', doc='max number of iterations (>= 0).'): 10, Param(parent='ALS_032f84a4e781', name='regParam', doc='regularization parameter (>= 0).'): 0.001, Param(parent='ALS_032f84a4e781', name='rank', doc='rank of the factorization'): 10, Param(parent='ALS_032f84a4e781', name='alpha', doc='alpha for implicit preference'): 0.1}, {Param(parent='ALS_032f84a4e781', name='maxIter', doc='max number of iterations (>= 0).'): 10, Param(parent='ALS_032f84a4e781', name='regParam', doc='regularization parameter (>= 0).'): 0.001, Param(parent='ALS_032f84a4e781', name='rank', doc='rank of the factorization'): 10, Param(parent='ALS_032f84a4e781', name='alpha', doc='alpha for implicit preference'): 0.01}, {Param(parent='ALS_032f84a4e781', name='maxIter', doc='max number of iterations (>= 0).'): 10, Param(parent='ALS_032f84a4e781', name='regParam', doc='regularization parameter (>= 0).'): 0.001, Param(parent='ALS_032f84a4e781', name='rank', doc='rank of the factorization'): 10, Param(parent='ALS_032f84a4e781', name='alpha', doc='alpha for implicit preference'): 0.001}, {Param(parent='ALS_032f84a4e781', name='maxIter', doc='max number of iterations (>= 0).'): 10, Param(parent='ALS_032f84a4e781', name='regParam', doc='regularization parameter (>= 0).'): 0.001, Param(parent='ALS_032f84a4e781', name='rank', doc='rank of the factorization'): 15, Param(parent='ALS_032f84a4e781', name='alpha', doc='alpha for implicit preference'): 0.1}, {Param(parent='ALS_032f84a4e781', name='maxIter', doc='max number of iterations (>= 0).'): 10, Param(parent='ALS_032f84a4e781', name='regParam', doc='regularization parameter (>= 0).'): 0.001, Param(parent='ALS_032f84a4e781', name='rank', doc='rank of the factorization'): 15, Param(parent='ALS_032f84a4e781', name='alpha', doc='alpha for implicit preference'): 0.01}, {Param(parent='ALS_032f84a4e781', name='maxIter', doc='max number of iterations (>= 0).'): 10, Param(parent='ALS_032f84a4e781', name='regParam', doc='regularization parameter (>= 0).'): 0.001, Param(parent='ALS_032f84a4e781', name='rank', doc='rank of the factorization'): 15, Param(parent='ALS_032f84a4e781', name='alpha', doc='alpha for implicit preference'): 0.001}, {Param(parent='ALS_032f84a4e781', name='maxIter', doc='max number of iterations (>= 0).'): 10, Param(parent='ALS_032f84a4e781', name='regParam', doc='regularization parameter (>= 0).'): 0.001, Param(parent='ALS_032f84a4e781', name='rank', doc='rank of the factorization'): 20, Param(parent='ALS_032f84a4e781', name='alpha', doc='alpha for implicit preference'): 0.1}, {Param(parent='ALS_032f84a4e781', name='maxIter', doc='max number of iterations (>= 0).'): 10, Param(parent='ALS_032f84a4e781', name='regParam', doc='regularization parameter (>= 0).'): 0.001, Param(parent='ALS_032f84a4e781', name='rank', doc='rank of the factorization'): 20, Param(parent='ALS_032f84a4e781', name='alpha', doc='alpha for implicit preference'): 0.01}, {Param(parent='ALS_032f84a4e781', name='maxIter', doc='max number of iterations (>= 0).'): 10, Param(parent='ALS_032f84a4e781', name='regParam', doc='regularization parameter (>= 0).'): 0.001, Param(parent='ALS_032f84a4e781', name='rank', doc='rank of the factorization'): 20, Param(parent='ALS_032f84a4e781', name='alpha', doc='alpha for implicit preference'): 0.001}, {Param(parent='ALS_032f84a4e781', name='maxIter', doc='max number of iterations (>= 0).'): 10, Param(parent='ALS_032f84a4e781', name='regParam', doc='regularization parameter (>= 0).'): 0.001, Param(parent='ALS_032f84a4e781', name='rank', doc='rank of the factorization'): 25, Param(parent='ALS_032f84a4e781', name='alpha', doc='alpha for implicit preference'): 0.1}, {Param(parent='ALS_032f84a4e781', name='maxIter', doc='max number of iterations (>= 0).'): 10, Param(parent='ALS_032f84a4e781', name='regParam', doc='regularization parameter (>= 0).'): 0.001, Param(parent='ALS_032f84a4e781', name='rank', doc='rank of the factorization'): 25, Param(parent='ALS_032f84a4e781', name='alpha', doc='alpha for implicit preference'): 0.01}, {Param(parent='ALS_032f84a4e781', name='maxIter', doc='max number of iterations (>= 0).'): 10, Param(parent='ALS_032f84a4e781', name='regParam', doc='regularization parameter (>= 0).'): 0.001, Param(parent='ALS_032f84a4e781', name='rank', doc='rank of the factorization'): 25, Param(parent='ALS_032f84a4e781', name='alpha', doc='alpha for implicit preference'): 0.001}]\n"
          ]
        }
      ]
    },
    {
      "cell_type": "code",
      "source": [
        "# Check the best parameters\n",
        "best_params = cvModel.getEstimatorParamMaps()[np.argmin(cvModel.avgMetrics)]\n",
        "print('Best ALS model parameters by CV:')\n",
        "for i,j in best_params.items():\n",
        "  print('-> '+i.name+': '+str(j))"
      ],
      "metadata": {
        "colab": {
          "base_uri": "https://localhost:8080/"
        },
        "id": "6Oyy5LLQLcdP",
        "outputId": "729f4ede-a121-4f6c-de74-1e76e6c53ea6"
      },
      "execution_count": null,
      "outputs": [
        {
          "output_type": "stream",
          "name": "stdout",
          "text": [
            "Best ALS model parameters by CV:\n",
            "-> maxIter: 10\n",
            "-> regParam: 0.1\n",
            "-> rank: 25\n",
            "-> alpha: 0.1\n"
          ]
        }
      ]
    },
    {
      "cell_type": "code",
      "source": [
        "#Extract best model from the tuning exercise using ParamGridBuilder\n",
        "prediction_train=cvModel.transform(training)\n",
        "rmse_train = evaluator.evaluate(prediction_train)\n",
        "print(\"Root-mean-square error for training data is \" + str(rmse_train))"
      ],
      "metadata": {
        "colab": {
          "base_uri": "https://localhost:8080/"
        },
        "id": "Lio3yNzvL4iv",
        "outputId": "81f93dad-463a-4532-f624-0fb015ed19cb"
      },
      "execution_count": null,
      "outputs": [
        {
          "output_type": "stream",
          "name": "stdout",
          "text": [
            "Root-mean-square error for training data is 0.4837824991910567\n"
          ]
        }
      ]
    },
    {
      "cell_type": "markdown",
      "metadata": {
        "id": "XsL-ufvNz_oP"
      },
      "source": [
        "## Model testing\n",
        "Make a prediction and check the testing error."
      ]
    },
    {
      "cell_type": "code",
      "metadata": {
        "id": "1DSbaAr_0Jc3"
      },
      "source": [
        "#Generate predictions and evaluate using RMSE\n",
        "predictions=bestModel.transform(test)\n",
        "rmse = evaluator.evaluate(predictions)"
      ],
      "execution_count": null,
      "outputs": []
    },
    {
      "cell_type": "code",
      "metadata": {
        "id": "i6F_F4br0OpL",
        "colab": {
          "base_uri": "https://localhost:8080/"
        },
        "outputId": "55d0fe67-76c3-4697-d086-2dbed67b6322"
      },
      "source": [
        "#Print evaluation metrics and model parameters\n",
        "print (\"RMSE = \"+str(rmse))\n",
        "print (\"**Best Model**\")\n",
        "print (\" Rank: \", str(bestModel._java_obj.parent().getRank())),\n",
        "print (\" MaxIter: \", str(bestModel._java_obj.parent().getMaxIter())), \n",
        "print (\" RegParam: \", str(bestModel._java_obj.parent().getRegParam()))"
      ],
      "execution_count": null,
      "outputs": [
        {
          "output_type": "stream",
          "name": "stdout",
          "text": [
            "RMSE = 0.879577928894575\n",
            "**Best Model**\n",
            " Rank:  25\n",
            " MaxIter:  10\n",
            " RegParam:  0.1\n"
          ]
        }
      ]
    },
    {
      "cell_type": "code",
      "metadata": {
        "id": "QLjY6-OC5HIP",
        "colab": {
          "base_uri": "https://localhost:8080/"
        },
        "outputId": "ac7272f2-1dd3-48a0-adc8-726173348fac"
      },
      "source": [
        "predictions.show()"
      ],
      "execution_count": null,
      "outputs": [
        {
          "output_type": "stream",
          "name": "stdout",
          "text": [
            "+------+-------+------+----------+\n",
            "|userId|movieId|rating|prediction|\n",
            "+------+-------+------+----------+\n",
            "|   580|   1580|   4.0| 3.6558356|\n",
            "|    34|   1580|   2.5| 3.3416553|\n",
            "|   368|   1645|   3.0| 3.1875582|\n",
            "|   385|    471|   4.0| 3.4575915|\n",
            "|   183|   1580|   4.0| 3.8411965|\n",
            "|   332|   1645|   3.5|  3.129385|\n",
            "|   577|   1959|   4.0| 3.3926704|\n",
            "|    44|    833|   2.0| 2.5613637|\n",
            "|   606|   1088|   3.0| 3.2879496|\n",
            "|   606|   1959|   3.5| 3.4933593|\n",
            "|   602|    471|   4.0| 3.2300053|\n",
            "|    91|    471|   1.0| 3.0082564|\n",
            "|    91|   3175|   3.5| 3.0701923|\n",
            "|   409|    471|   3.0| 3.3932104|\n",
            "|   157|   3175|   2.0|  3.419495|\n",
            "|   232|  68135|   4.0| 3.2277513|\n",
            "|   346|   8638|   4.0|  3.270881|\n",
            "|   599|   1342|   2.5| 2.4534192|\n",
            "|   599|   1580|   3.0| 2.9347553|\n",
            "|   599|   1591|   2.5| 2.1216812|\n",
            "+------+-------+------+----------+\n",
            "only showing top 20 rows\n",
            "\n"
          ]
        }
      ]
    },
    {
      "cell_type": "markdown",
      "metadata": {
        "id": "rD63B3RE5JdX"
      },
      "source": [
        "## Model apply and see the performance"
      ]
    },
    {
      "cell_type": "code",
      "metadata": {
        "id": "-ma-QzXv5KQ1",
        "colab": {
          "base_uri": "https://localhost:8080/"
        },
        "outputId": "83129d07-9816-4160-da87-3253ca93b117"
      },
      "source": [
        "alldata = bestModel.transform(movie_ratings)\n",
        "rmse = evaluator.evaluate(alldata)\n",
        "print (\"RMSE = \"+str(rmse))"
      ],
      "execution_count": null,
      "outputs": [
        {
          "output_type": "stream",
          "name": "stdout",
          "text": [
            "RMSE = 0.581888203810293\n"
          ]
        }
      ]
    },
    {
      "cell_type": "code",
      "metadata": {
        "id": "glJ7XjAk5P--"
      },
      "source": [
        "alldata.createOrReplaceTempView(\"alldata\")"
      ],
      "execution_count": null,
      "outputs": []
    },
    {
      "cell_type": "code",
      "metadata": {
        "id": "BW0908ad5R42",
        "colab": {
          "base_uri": "https://localhost:8080/"
        },
        "outputId": "963cf3fd-fdc9-4c43-b88a-73d669a3471c"
      },
      "source": [
        "spark.sql(\"Select * From alldata\").show()"
      ],
      "execution_count": null,
      "outputs": [
        {
          "output_type": "stream",
          "name": "stdout",
          "text": [
            "+------+-------+------+----------+\n",
            "|userId|movieId|rating|prediction|\n",
            "+------+-------+------+----------+\n",
            "|   463|   1088|   3.5| 3.4053252|\n",
            "|   137|   1580|   3.5| 3.3819265|\n",
            "|   580|   1580|   4.0| 3.6558356|\n",
            "|   580|   3175|   2.5| 3.2645736|\n",
            "|   580|  44022|   3.5| 3.4524035|\n",
            "|   133|    471|   4.0|  3.296358|\n",
            "|   322|   1580|   3.5| 3.4365146|\n",
            "|   362|   1591|   4.0| 3.3133686|\n",
            "|   362|   1645|   5.0|  3.765933|\n",
            "|   593|   1580|   1.5| 2.6630096|\n",
            "|   597|    471|   2.0| 3.1928482|\n",
            "|   597|   1580|   3.0|  3.414426|\n",
            "|   597|   1959|   4.0| 3.9858823|\n",
            "|   597|   2366|   5.0|   4.52139|\n",
            "|   108|   1959|   5.0|  4.651726|\n",
            "|   155|   1580|   4.0|  4.029435|\n",
            "|   155|   3175|   4.0| 3.7906594|\n",
            "|    34|   1580|   2.5| 3.3416553|\n",
            "|    34|   3997|   2.0| 1.8552606|\n",
            "|   368|   1580|   3.0|  3.081088|\n",
            "+------+-------+------+----------+\n",
            "only showing top 20 rows\n",
            "\n"
          ]
        }
      ]
    },
    {
      "cell_type": "code",
      "metadata": {
        "id": "hmVDrwsD5TYY",
        "colab": {
          "base_uri": "https://localhost:8080/"
        },
        "outputId": "54fb9330-7f09-4b4d-e17d-bfc6de70d96e"
      },
      "source": [
        "spark.sql('SELECT * ' +\\\n",
        "          'FROM movies ' +\\\n",
        "\t          'JOIN alldata ON movies.movieId = alldata.movieId').show()"
      ],
      "execution_count": null,
      "outputs": [
        {
          "output_type": "stream",
          "name": "stdout",
          "text": [
            "+-------+--------------------+--------------------+------+-------+------+----------+\n",
            "|movieId|               title|              genres|userId|movieId|rating|prediction|\n",
            "+-------+--------------------+--------------------+------+-------+------+----------+\n",
            "|   1088|Dirty Dancing (1987)|Drama|Musical|Rom...|   463|   1088|   3.5| 3.4053252|\n",
            "|   1580|Men in Black (a.k...|Action|Comedy|Sci-Fi|   137|   1580|   3.5| 3.3819265|\n",
            "|   1580|Men in Black (a.k...|Action|Comedy|Sci-Fi|   580|   1580|   4.0| 3.6558356|\n",
            "|   3175| Galaxy Quest (1999)|Adventure|Comedy|...|   580|   3175|   2.5| 3.2645736|\n",
            "|  44022|Ice Age 2: The Me...|Adventure|Animati...|   580|  44022|   3.5| 3.4524035|\n",
            "|    471|Hudsucker Proxy, ...|              Comedy|   133|    471|   4.0|  3.296358|\n",
            "|   1580|Men in Black (a.k...|Action|Comedy|Sci-Fi|   322|   1580|   3.5| 3.4365146|\n",
            "|   1591|        Spawn (1997)|Action|Adventure|...|   362|   1591|   4.0| 3.3133686|\n",
            "|   1645|The Devil's Advoc...|Drama|Mystery|Thr...|   362|   1645|   5.0|  3.765933|\n",
            "|   1580|Men in Black (a.k...|Action|Comedy|Sci-Fi|   593|   1580|   1.5| 2.6630096|\n",
            "|    471|Hudsucker Proxy, ...|              Comedy|   597|    471|   2.0| 3.1928482|\n",
            "|   1580|Men in Black (a.k...|Action|Comedy|Sci-Fi|   597|   1580|   3.0|  3.414426|\n",
            "|   1959|Out of Africa (1985)|       Drama|Romance|   597|   1959|   4.0| 3.9858823|\n",
            "|   2366|    King Kong (1933)|Action|Adventure|...|   597|   2366|   5.0|   4.52139|\n",
            "|   1959|Out of Africa (1985)|       Drama|Romance|   108|   1959|   5.0|  4.651726|\n",
            "|   1580|Men in Black (a.k...|Action|Comedy|Sci-Fi|   155|   1580|   4.0|  4.029435|\n",
            "|   3175| Galaxy Quest (1999)|Adventure|Comedy|...|   155|   3175|   4.0| 3.7906594|\n",
            "|   1580|Men in Black (a.k...|Action|Comedy|Sci-Fi|    34|   1580|   2.5| 3.3416553|\n",
            "|   3997|Dungeons & Dragon...|Action|Adventure|...|    34|   3997|   2.0| 1.8552606|\n",
            "|   1580|Men in Black (a.k...|Action|Comedy|Sci-Fi|   368|   1580|   3.0|  3.081088|\n",
            "+-------+--------------------+--------------------+------+-------+------+----------+\n",
            "only showing top 20 rows\n",
            "\n"
          ]
        }
      ]
    },
    {
      "cell_type": "markdown",
      "metadata": {
        "id": "UGITMi8k5uOx"
      },
      "source": [
        "## Recommend moive to users with id: 575, 232. \n",
        "you can choose some users to recommend the moives "
      ]
    },
    {
      "cell_type": "code",
      "metadata": {
        "id": "QjBgEltJ5rYw",
        "colab": {
          "base_uri": "https://localhost:8080/",
          "height": 393
        },
        "outputId": "62fdc75e-b549-4fc6-da32-b641e7808d8a"
      },
      "source": [
        "# define a function to package the recommendation\n",
        "def topKRecommend(k,id,model):\n",
        "  '''\n",
        "  k: the number of movies to recommend\n",
        "  id: the id of the user to give recommendations\n",
        "  model: the trained model for recommendation\n",
        "  '''\n",
        "  # the table for all top10 recommendations\n",
        "  all_recommd=model.recommendForAllUsers(k)\n",
        "  user_recommd=all_recommd.where(all_recommd.userId==id).toPandas()\n",
        "  if user_recommd.shape[0]==0:\n",
        "    print('No user with id '+str(id)+' is found in the data.')\n",
        "    return None\n",
        "  user_recommd=user_recommd.iloc[0,1]\n",
        "  user_recommd=pd.DataFrame(user_recommd,columns=['movieId','predicted_ratings'])\n",
        "  temp=None\n",
        "  for i in user_recommd['movieId']:\n",
        "    if not temp:\n",
        "      temp=movies_df.where(movies_df.movieId==str(i))\n",
        "    else:\n",
        "      temp=temp.union(movies_df.where(movies_df.movieId==str(i)))\n",
        "  out=pd.concat([temp.toPandas(),user_recommd['predicted_ratings']],axis=1)\n",
        "  out.index=range(1,k+1)\n",
        "  return out\n",
        "\n",
        "\n",
        "\n",
        "# top 10 for user 575\n",
        "topKRecommend(10,575,bestModel)"
      ],
      "execution_count": null,
      "outputs": [
        {
          "output_type": "stream",
          "name": "stderr",
          "text": [
            "/content/spark-3.2.1-bin-hadoop3.2/python/pyspark/sql/context.py:127: FutureWarning: Deprecated in 3.0.0. Use SparkSession.builder.getOrCreate() instead.\n",
            "  FutureWarning\n"
          ]
        },
        {
          "output_type": "execute_result",
          "data": {
            "text/plain": [
              "   movieId                                             title  \\\n",
              "1   174053              Black Mirror: White Christmas (2014)   \n",
              "2     1172    Cinema Paradiso (Nuovo cinema Paradiso) (1989)   \n",
              "3      430                              Calendar Girl (1993)   \n",
              "4   177593  Three Billboards Outside Ebbing, Missouri (2017)   \n",
              "5     7361      Eternal Sunshine of the Spotless Mind (2004)   \n",
              "6     2324        Life Is Beautiful (La Vita è bella) (1997)   \n",
              "7    51931                              Reign Over Me (2007)   \n",
              "8      110                                 Braveheart (1995)   \n",
              "9      778                              Trainspotting (1996)   \n",
              "10    1246                         Dead Poets Society (1989)   \n",
              "\n",
              "                                  genres  predicted_ratings  \n",
              "1   Drama|Horror|Mystery|Sci-Fi|Thriller           4.884698  \n",
              "2                                  Drama           4.775285  \n",
              "3                           Comedy|Drama           4.773774  \n",
              "4                            Crime|Drama           4.772408  \n",
              "5                   Drama|Romance|Sci-Fi           4.709968  \n",
              "6               Comedy|Drama|Romance|War           4.705808  \n",
              "7                                  Drama           4.689488  \n",
              "8                       Action|Drama|War           4.623497  \n",
              "9                     Comedy|Crime|Drama           4.617350  \n",
              "10                                 Drama           4.609714  "
            ],
            "text/html": [
              "\n",
              "  <div id=\"df-b0247384-f679-4fd9-98b8-2ac470a1546d\">\n",
              "    <div class=\"colab-df-container\">\n",
              "      <div>\n",
              "<style scoped>\n",
              "    .dataframe tbody tr th:only-of-type {\n",
              "        vertical-align: middle;\n",
              "    }\n",
              "\n",
              "    .dataframe tbody tr th {\n",
              "        vertical-align: top;\n",
              "    }\n",
              "\n",
              "    .dataframe thead th {\n",
              "        text-align: right;\n",
              "    }\n",
              "</style>\n",
              "<table border=\"1\" class=\"dataframe\">\n",
              "  <thead>\n",
              "    <tr style=\"text-align: right;\">\n",
              "      <th></th>\n",
              "      <th>movieId</th>\n",
              "      <th>title</th>\n",
              "      <th>genres</th>\n",
              "      <th>predicted_ratings</th>\n",
              "    </tr>\n",
              "  </thead>\n",
              "  <tbody>\n",
              "    <tr>\n",
              "      <th>1</th>\n",
              "      <td>174053</td>\n",
              "      <td>Black Mirror: White Christmas (2014)</td>\n",
              "      <td>Drama|Horror|Mystery|Sci-Fi|Thriller</td>\n",
              "      <td>4.884698</td>\n",
              "    </tr>\n",
              "    <tr>\n",
              "      <th>2</th>\n",
              "      <td>1172</td>\n",
              "      <td>Cinema Paradiso (Nuovo cinema Paradiso) (1989)</td>\n",
              "      <td>Drama</td>\n",
              "      <td>4.775285</td>\n",
              "    </tr>\n",
              "    <tr>\n",
              "      <th>3</th>\n",
              "      <td>430</td>\n",
              "      <td>Calendar Girl (1993)</td>\n",
              "      <td>Comedy|Drama</td>\n",
              "      <td>4.773774</td>\n",
              "    </tr>\n",
              "    <tr>\n",
              "      <th>4</th>\n",
              "      <td>177593</td>\n",
              "      <td>Three Billboards Outside Ebbing, Missouri (2017)</td>\n",
              "      <td>Crime|Drama</td>\n",
              "      <td>4.772408</td>\n",
              "    </tr>\n",
              "    <tr>\n",
              "      <th>5</th>\n",
              "      <td>7361</td>\n",
              "      <td>Eternal Sunshine of the Spotless Mind (2004)</td>\n",
              "      <td>Drama|Romance|Sci-Fi</td>\n",
              "      <td>4.709968</td>\n",
              "    </tr>\n",
              "    <tr>\n",
              "      <th>6</th>\n",
              "      <td>2324</td>\n",
              "      <td>Life Is Beautiful (La Vita è bella) (1997)</td>\n",
              "      <td>Comedy|Drama|Romance|War</td>\n",
              "      <td>4.705808</td>\n",
              "    </tr>\n",
              "    <tr>\n",
              "      <th>7</th>\n",
              "      <td>51931</td>\n",
              "      <td>Reign Over Me (2007)</td>\n",
              "      <td>Drama</td>\n",
              "      <td>4.689488</td>\n",
              "    </tr>\n",
              "    <tr>\n",
              "      <th>8</th>\n",
              "      <td>110</td>\n",
              "      <td>Braveheart (1995)</td>\n",
              "      <td>Action|Drama|War</td>\n",
              "      <td>4.623497</td>\n",
              "    </tr>\n",
              "    <tr>\n",
              "      <th>9</th>\n",
              "      <td>778</td>\n",
              "      <td>Trainspotting (1996)</td>\n",
              "      <td>Comedy|Crime|Drama</td>\n",
              "      <td>4.617350</td>\n",
              "    </tr>\n",
              "    <tr>\n",
              "      <th>10</th>\n",
              "      <td>1246</td>\n",
              "      <td>Dead Poets Society (1989)</td>\n",
              "      <td>Drama</td>\n",
              "      <td>4.609714</td>\n",
              "    </tr>\n",
              "  </tbody>\n",
              "</table>\n",
              "</div>\n",
              "      <button class=\"colab-df-convert\" onclick=\"convertToInteractive('df-b0247384-f679-4fd9-98b8-2ac470a1546d')\"\n",
              "              title=\"Convert this dataframe to an interactive table.\"\n",
              "              style=\"display:none;\">\n",
              "        \n",
              "  <svg xmlns=\"http://www.w3.org/2000/svg\" height=\"24px\"viewBox=\"0 0 24 24\"\n",
              "       width=\"24px\">\n",
              "    <path d=\"M0 0h24v24H0V0z\" fill=\"none\"/>\n",
              "    <path d=\"M18.56 5.44l.94 2.06.94-2.06 2.06-.94-2.06-.94-.94-2.06-.94 2.06-2.06.94zm-11 1L8.5 8.5l.94-2.06 2.06-.94-2.06-.94L8.5 2.5l-.94 2.06-2.06.94zm10 10l.94 2.06.94-2.06 2.06-.94-2.06-.94-.94-2.06-.94 2.06-2.06.94z\"/><path d=\"M17.41 7.96l-1.37-1.37c-.4-.4-.92-.59-1.43-.59-.52 0-1.04.2-1.43.59L10.3 9.45l-7.72 7.72c-.78.78-.78 2.05 0 2.83L4 21.41c.39.39.9.59 1.41.59.51 0 1.02-.2 1.41-.59l7.78-7.78 2.81-2.81c.8-.78.8-2.07 0-2.86zM5.41 20L4 18.59l7.72-7.72 1.47 1.35L5.41 20z\"/>\n",
              "  </svg>\n",
              "      </button>\n",
              "      \n",
              "  <style>\n",
              "    .colab-df-container {\n",
              "      display:flex;\n",
              "      flex-wrap:wrap;\n",
              "      gap: 12px;\n",
              "    }\n",
              "\n",
              "    .colab-df-convert {\n",
              "      background-color: #E8F0FE;\n",
              "      border: none;\n",
              "      border-radius: 50%;\n",
              "      cursor: pointer;\n",
              "      display: none;\n",
              "      fill: #1967D2;\n",
              "      height: 32px;\n",
              "      padding: 0 0 0 0;\n",
              "      width: 32px;\n",
              "    }\n",
              "\n",
              "    .colab-df-convert:hover {\n",
              "      background-color: #E2EBFA;\n",
              "      box-shadow: 0px 1px 2px rgba(60, 64, 67, 0.3), 0px 1px 3px 1px rgba(60, 64, 67, 0.15);\n",
              "      fill: #174EA6;\n",
              "    }\n",
              "\n",
              "    [theme=dark] .colab-df-convert {\n",
              "      background-color: #3B4455;\n",
              "      fill: #D2E3FC;\n",
              "    }\n",
              "\n",
              "    [theme=dark] .colab-df-convert:hover {\n",
              "      background-color: #434B5C;\n",
              "      box-shadow: 0px 1px 3px 1px rgba(0, 0, 0, 0.15);\n",
              "      filter: drop-shadow(0px 1px 2px rgba(0, 0, 0, 0.3));\n",
              "      fill: #FFFFFF;\n",
              "    }\n",
              "  </style>\n",
              "\n",
              "      <script>\n",
              "        const buttonEl =\n",
              "          document.querySelector('#df-b0247384-f679-4fd9-98b8-2ac470a1546d button.colab-df-convert');\n",
              "        buttonEl.style.display =\n",
              "          google.colab.kernel.accessAllowed ? 'block' : 'none';\n",
              "\n",
              "        async function convertToInteractive(key) {\n",
              "          const element = document.querySelector('#df-b0247384-f679-4fd9-98b8-2ac470a1546d');\n",
              "          const dataTable =\n",
              "            await google.colab.kernel.invokeFunction('convertToInteractive',\n",
              "                                                     [key], {});\n",
              "          if (!dataTable) return;\n",
              "\n",
              "          const docLinkHtml = 'Like what you see? Visit the ' +\n",
              "            '<a target=\"_blank\" href=https://colab.research.google.com/notebooks/data_table.ipynb>data table notebook</a>'\n",
              "            + ' to learn more about interactive tables.';\n",
              "          element.innerHTML = '';\n",
              "          dataTable['output_type'] = 'display_data';\n",
              "          await google.colab.output.renderOutput(dataTable, element);\n",
              "          const docLink = document.createElement('div');\n",
              "          docLink.innerHTML = docLinkHtml;\n",
              "          element.appendChild(docLink);\n",
              "        }\n",
              "      </script>\n",
              "    </div>\n",
              "  </div>\n",
              "  "
            ]
          },
          "metadata": {},
          "execution_count": 48
        }
      ]
    },
    {
      "cell_type": "code",
      "source": [
        "# top 15 for user 232\n",
        "topKRecommend(15,232,bestModel)"
      ],
      "metadata": {
        "colab": {
          "base_uri": "https://localhost:8080/",
          "height": 548
        },
        "id": "B02U1F43uzBt",
        "outputId": "fd83acf9-4d8c-4d7c-e830-b708f66faf6c"
      },
      "execution_count": null,
      "outputs": [
        {
          "output_type": "stream",
          "name": "stderr",
          "text": [
            "/content/spark-3.2.1-bin-hadoop3.2/python/pyspark/sql/context.py:127: FutureWarning: Deprecated in 3.0.0. Use SparkSession.builder.getOrCreate() instead.\n",
            "  FutureWarning\n"
          ]
        },
        {
          "output_type": "execute_result",
          "data": {
            "text/plain": [
              "   movieId                                              title  \\\n",
              "1   173963                                     Empties (2007)   \n",
              "2   163072                                 Winnie Pooh (1969)   \n",
              "3   179133                              Loving Vincent (2017)   \n",
              "4   175431                       Bobik Visiting Barbos (1977)   \n",
              "5   163112               Winnie the Pooh Goes Visiting (1971)   \n",
              "6   172793        Vovka in the Kingdom of Far Far Away (1965)   \n",
              "7   175293                          Gena the Crocodile (1969)   \n",
              "8   147300  Adventures Of Sherlock Holmes And Dr. Watson: ...   \n",
              "9   130970         George Carlin: Life Is Worth Losing (2005)   \n",
              "10  147330  Sherlock Holmes and Dr. Watson: Acquaintance (...   \n",
              "11  173351                        Wow! A Talking Fish! (1983)   \n",
              "12  142020                                       Oscar (1967)   \n",
              "13  174551                                   Obsession (1965)   \n",
              "14  104780  Mystery of the Third Planet, The (Tayna tretey...   \n",
              "15  166183                          Junior and Karlson (1968)   \n",
              "\n",
              "                                  genres  predicted_ratings  \n",
              "1                                 Comedy           4.409193  \n",
              "2                     Animation|Children           4.409193  \n",
              "3                  Animation|Crime|Drama           4.409193  \n",
              "4                       Animation|Comedy           4.409193  \n",
              "5                              Animation           4.409193  \n",
              "6   Adventure|Animation|Children|Fantasy           4.409193  \n",
              "7                     Animation|Children           4.409193  \n",
              "8                          Crime|Mystery           4.409193  \n",
              "9                                 Comedy           4.409193  \n",
              "10                                 Crime           4.409193  \n",
              "11     Animation|Children|Comedy|Fantasy           4.409193  \n",
              "12                                Comedy           4.409193  \n",
              "13                                Comedy           4.409193  \n",
              "14            Adventure|Animation|Sci-Fi           4.409193  \n",
              "15          Adventure|Animation|Children           4.409193  "
            ],
            "text/html": [
              "\n",
              "  <div id=\"df-c54ce577-8d45-43fa-b01e-527a575ca509\">\n",
              "    <div class=\"colab-df-container\">\n",
              "      <div>\n",
              "<style scoped>\n",
              "    .dataframe tbody tr th:only-of-type {\n",
              "        vertical-align: middle;\n",
              "    }\n",
              "\n",
              "    .dataframe tbody tr th {\n",
              "        vertical-align: top;\n",
              "    }\n",
              "\n",
              "    .dataframe thead th {\n",
              "        text-align: right;\n",
              "    }\n",
              "</style>\n",
              "<table border=\"1\" class=\"dataframe\">\n",
              "  <thead>\n",
              "    <tr style=\"text-align: right;\">\n",
              "      <th></th>\n",
              "      <th>movieId</th>\n",
              "      <th>title</th>\n",
              "      <th>genres</th>\n",
              "      <th>predicted_ratings</th>\n",
              "    </tr>\n",
              "  </thead>\n",
              "  <tbody>\n",
              "    <tr>\n",
              "      <th>1</th>\n",
              "      <td>173963</td>\n",
              "      <td>Empties (2007)</td>\n",
              "      <td>Comedy</td>\n",
              "      <td>4.409193</td>\n",
              "    </tr>\n",
              "    <tr>\n",
              "      <th>2</th>\n",
              "      <td>163072</td>\n",
              "      <td>Winnie Pooh (1969)</td>\n",
              "      <td>Animation|Children</td>\n",
              "      <td>4.409193</td>\n",
              "    </tr>\n",
              "    <tr>\n",
              "      <th>3</th>\n",
              "      <td>179133</td>\n",
              "      <td>Loving Vincent (2017)</td>\n",
              "      <td>Animation|Crime|Drama</td>\n",
              "      <td>4.409193</td>\n",
              "    </tr>\n",
              "    <tr>\n",
              "      <th>4</th>\n",
              "      <td>175431</td>\n",
              "      <td>Bobik Visiting Barbos (1977)</td>\n",
              "      <td>Animation|Comedy</td>\n",
              "      <td>4.409193</td>\n",
              "    </tr>\n",
              "    <tr>\n",
              "      <th>5</th>\n",
              "      <td>163112</td>\n",
              "      <td>Winnie the Pooh Goes Visiting (1971)</td>\n",
              "      <td>Animation</td>\n",
              "      <td>4.409193</td>\n",
              "    </tr>\n",
              "    <tr>\n",
              "      <th>6</th>\n",
              "      <td>172793</td>\n",
              "      <td>Vovka in the Kingdom of Far Far Away (1965)</td>\n",
              "      <td>Adventure|Animation|Children|Fantasy</td>\n",
              "      <td>4.409193</td>\n",
              "    </tr>\n",
              "    <tr>\n",
              "      <th>7</th>\n",
              "      <td>175293</td>\n",
              "      <td>Gena the Crocodile (1969)</td>\n",
              "      <td>Animation|Children</td>\n",
              "      <td>4.409193</td>\n",
              "    </tr>\n",
              "    <tr>\n",
              "      <th>8</th>\n",
              "      <td>147300</td>\n",
              "      <td>Adventures Of Sherlock Holmes And Dr. Watson: ...</td>\n",
              "      <td>Crime|Mystery</td>\n",
              "      <td>4.409193</td>\n",
              "    </tr>\n",
              "    <tr>\n",
              "      <th>9</th>\n",
              "      <td>130970</td>\n",
              "      <td>George Carlin: Life Is Worth Losing (2005)</td>\n",
              "      <td>Comedy</td>\n",
              "      <td>4.409193</td>\n",
              "    </tr>\n",
              "    <tr>\n",
              "      <th>10</th>\n",
              "      <td>147330</td>\n",
              "      <td>Sherlock Holmes and Dr. Watson: Acquaintance (...</td>\n",
              "      <td>Crime</td>\n",
              "      <td>4.409193</td>\n",
              "    </tr>\n",
              "    <tr>\n",
              "      <th>11</th>\n",
              "      <td>173351</td>\n",
              "      <td>Wow! A Talking Fish! (1983)</td>\n",
              "      <td>Animation|Children|Comedy|Fantasy</td>\n",
              "      <td>4.409193</td>\n",
              "    </tr>\n",
              "    <tr>\n",
              "      <th>12</th>\n",
              "      <td>142020</td>\n",
              "      <td>Oscar (1967)</td>\n",
              "      <td>Comedy</td>\n",
              "      <td>4.409193</td>\n",
              "    </tr>\n",
              "    <tr>\n",
              "      <th>13</th>\n",
              "      <td>174551</td>\n",
              "      <td>Obsession (1965)</td>\n",
              "      <td>Comedy</td>\n",
              "      <td>4.409193</td>\n",
              "    </tr>\n",
              "    <tr>\n",
              "      <th>14</th>\n",
              "      <td>104780</td>\n",
              "      <td>Mystery of the Third Planet, The (Tayna tretey...</td>\n",
              "      <td>Adventure|Animation|Sci-Fi</td>\n",
              "      <td>4.409193</td>\n",
              "    </tr>\n",
              "    <tr>\n",
              "      <th>15</th>\n",
              "      <td>166183</td>\n",
              "      <td>Junior and Karlson (1968)</td>\n",
              "      <td>Adventure|Animation|Children</td>\n",
              "      <td>4.409193</td>\n",
              "    </tr>\n",
              "  </tbody>\n",
              "</table>\n",
              "</div>\n",
              "      <button class=\"colab-df-convert\" onclick=\"convertToInteractive('df-c54ce577-8d45-43fa-b01e-527a575ca509')\"\n",
              "              title=\"Convert this dataframe to an interactive table.\"\n",
              "              style=\"display:none;\">\n",
              "        \n",
              "  <svg xmlns=\"http://www.w3.org/2000/svg\" height=\"24px\"viewBox=\"0 0 24 24\"\n",
              "       width=\"24px\">\n",
              "    <path d=\"M0 0h24v24H0V0z\" fill=\"none\"/>\n",
              "    <path d=\"M18.56 5.44l.94 2.06.94-2.06 2.06-.94-2.06-.94-.94-2.06-.94 2.06-2.06.94zm-11 1L8.5 8.5l.94-2.06 2.06-.94-2.06-.94L8.5 2.5l-.94 2.06-2.06.94zm10 10l.94 2.06.94-2.06 2.06-.94-2.06-.94-.94-2.06-.94 2.06-2.06.94z\"/><path d=\"M17.41 7.96l-1.37-1.37c-.4-.4-.92-.59-1.43-.59-.52 0-1.04.2-1.43.59L10.3 9.45l-7.72 7.72c-.78.78-.78 2.05 0 2.83L4 21.41c.39.39.9.59 1.41.59.51 0 1.02-.2 1.41-.59l7.78-7.78 2.81-2.81c.8-.78.8-2.07 0-2.86zM5.41 20L4 18.59l7.72-7.72 1.47 1.35L5.41 20z\"/>\n",
              "  </svg>\n",
              "      </button>\n",
              "      \n",
              "  <style>\n",
              "    .colab-df-container {\n",
              "      display:flex;\n",
              "      flex-wrap:wrap;\n",
              "      gap: 12px;\n",
              "    }\n",
              "\n",
              "    .colab-df-convert {\n",
              "      background-color: #E8F0FE;\n",
              "      border: none;\n",
              "      border-radius: 50%;\n",
              "      cursor: pointer;\n",
              "      display: none;\n",
              "      fill: #1967D2;\n",
              "      height: 32px;\n",
              "      padding: 0 0 0 0;\n",
              "      width: 32px;\n",
              "    }\n",
              "\n",
              "    .colab-df-convert:hover {\n",
              "      background-color: #E2EBFA;\n",
              "      box-shadow: 0px 1px 2px rgba(60, 64, 67, 0.3), 0px 1px 3px 1px rgba(60, 64, 67, 0.15);\n",
              "      fill: #174EA6;\n",
              "    }\n",
              "\n",
              "    [theme=dark] .colab-df-convert {\n",
              "      background-color: #3B4455;\n",
              "      fill: #D2E3FC;\n",
              "    }\n",
              "\n",
              "    [theme=dark] .colab-df-convert:hover {\n",
              "      background-color: #434B5C;\n",
              "      box-shadow: 0px 1px 3px 1px rgba(0, 0, 0, 0.15);\n",
              "      filter: drop-shadow(0px 1px 2px rgba(0, 0, 0, 0.3));\n",
              "      fill: #FFFFFF;\n",
              "    }\n",
              "  </style>\n",
              "\n",
              "      <script>\n",
              "        const buttonEl =\n",
              "          document.querySelector('#df-c54ce577-8d45-43fa-b01e-527a575ca509 button.colab-df-convert');\n",
              "        buttonEl.style.display =\n",
              "          google.colab.kernel.accessAllowed ? 'block' : 'none';\n",
              "\n",
              "        async function convertToInteractive(key) {\n",
              "          const element = document.querySelector('#df-c54ce577-8d45-43fa-b01e-527a575ca509');\n",
              "          const dataTable =\n",
              "            await google.colab.kernel.invokeFunction('convertToInteractive',\n",
              "                                                     [key], {});\n",
              "          if (!dataTable) return;\n",
              "\n",
              "          const docLinkHtml = 'Like what you see? Visit the ' +\n",
              "            '<a target=\"_blank\" href=https://colab.research.google.com/notebooks/data_table.ipynb>data table notebook</a>'\n",
              "            + ' to learn more about interactive tables.';\n",
              "          element.innerHTML = '';\n",
              "          dataTable['output_type'] = 'display_data';\n",
              "          await google.colab.output.renderOutput(dataTable, element);\n",
              "          const docLink = document.createElement('div');\n",
              "          docLink.innerHTML = docLinkHtml;\n",
              "          element.appendChild(docLink);\n",
              "        }\n",
              "      </script>\n",
              "    </div>\n",
              "  </div>\n",
              "  "
            ]
          },
          "metadata": {},
          "execution_count": 49
        }
      ]
    },
    {
      "cell_type": "code",
      "metadata": {
        "id": "NOjlGTU55ul3",
        "colab": {
          "base_uri": "https://localhost:8080/"
        },
        "outputId": "f903c76e-2351-41ab-99a6-fc8c75420585"
      },
      "source": [
        "# access the movie factor matrix\n",
        "movie_factors=bestModel.itemFactors\n",
        "movie_factors.printSchema()\n",
        "comd=[\"movie_factors.selectExpr('id as movieId',\"]\n",
        "for i in range(bestModel.rank):\n",
        "  if i<bestModel.rank-1:\n",
        "    comd.append(\"'features[\"+str(i)+\"] as feature\"+str(i)+\"',\")\n",
        "  else:\n",
        "    comd.append(\"'features[\"+str(i)+\"] as feature\"+str(i)+\"'\")\n",
        "comd.append(')')\n",
        "# generate a comd combining movieId and feature 0 -15, and then split, \n",
        "# You can execute Spark column functions with a genius combination of expr and eval().\n",
        "movie_factors=eval(''.join(comd))\n",
        "movie_factors.createOrReplaceTempView('movie_factors')\n",
        "movie_factors.show()"
      ],
      "execution_count": null,
      "outputs": [
        {
          "output_type": "stream",
          "name": "stderr",
          "text": [
            "/content/spark-3.2.1-bin-hadoop3.2/python/pyspark/sql/context.py:127: FutureWarning: Deprecated in 3.0.0. Use SparkSession.builder.getOrCreate() instead.\n",
            "  FutureWarning\n"
          ]
        },
        {
          "output_type": "stream",
          "name": "stdout",
          "text": [
            "root\n",
            " |-- id: integer (nullable = false)\n",
            " |-- features: array (nullable = true)\n",
            " |    |-- element: float (containsNull = false)\n",
            "\n",
            "+-------+-------------+-----------+----------+-----------+-----------+-------------+----------+-----------+------------+------------+----------+------------+------------+------------+------------+------------+------------+-------------+-----------+-------------+------------+------------+------------+------------+----------+\n",
            "|movieId|     feature0|   feature1|  feature2|   feature3|   feature4|     feature5|  feature6|   feature7|    feature8|    feature9| feature10|   feature11|   feature12|   feature13|   feature14|   feature15|   feature16|    feature17|  feature18|    feature19|   feature20|   feature21|   feature22|   feature23| feature24|\n",
            "+-------+-------------+-----------+----------+-----------+-----------+-------------+----------+-----------+------------+------------+----------+------------+------------+------------+------------+------------+------------+-------------+-----------+-------------+------------+------------+------------+------------+----------+\n",
            "|     10|  -0.10893601|-0.22465359| 1.0638711|-0.48532605| 0.39747304|  0.077663004|  0.679427| -0.2190785|  -0.5392335| 0.009675778|0.71645206|  0.25893193|-0.011621049| -0.15088885|  -0.1936899|   0.5254664|  0.07605499|    0.2057768| 0.22628865|  -0.12449247|  0.42404905|    0.459592| -0.07446805| -0.33914396|0.83339727|\n",
            "|     20|  -0.34078056|-0.40809286|0.63828933| -1.1299818| 0.17966206|   0.25246105|0.19283383| -0.3956789| -0.69746333|   0.5485388|0.63270146| 0.044073623| -0.25018042| -0.12754123| -0.38451847| 0.052332204|  0.19644685|-0.0077457796| 0.10163067|   0.14446479| -0.06373863|  0.12032055|  0.17968637|-0.109665096|0.49183857|\n",
            "|     30|  -0.26841298|-0.82451487|  0.360421| -0.8911691|-0.12360163|   0.64278007|0.45159858| 0.07216496|   -0.508473|  0.13884555| 0.3089462| -0.06218716|  0.24211301|  0.24531586|-0.113817625|-0.020420622| -0.43020898| 0.0045240107|-0.30770525|  0.026751505|  0.24155931|-0.030117499|-0.010647682| -0.08532907| 0.4555568|\n",
            "|     40|   0.18226364|-0.43720266| 0.8047299|  -0.691929| 0.29163632|   0.16549656|   0.45017|0.061102297|  -0.2714721|-0.090423934| 0.6474371|  -0.4782505|  0.19759753|  0.09033538| -0.20338218|   1.0033499|  -0.0778144|  -0.24615641|0.031428095|  -0.22633184|-0.111712836|  0.45882604| 0.035382293|  0.04767125|0.99569577|\n",
            "|     50|  -0.07242255|-0.85396236|0.57428575| -1.2072892|0.094155855|   0.11448569| 0.6369339|-0.59155077| -0.68547016|-0.028031942| 0.7381911|  0.30806053|  0.35270485| -0.34532985|  -0.3672821|  0.06716367| -0.11962891|  -0.38405737| 0.32822654| -0.080509566|  0.09327795|   0.5777872|-0.007982668| -0.44293484|0.86947215|\n",
            "|     60|  -0.63589555|-0.28522843|0.74854696| -0.4764999| 0.16801563|    0.3820541| 0.5197032|-0.47820175| -0.39241263|   0.5100817|0.41128963|   0.3989501|  -0.1319668|  0.05215291| -0.52816105| -0.34569988| -0.12494107|   0.20991595|-0.11093232|   0.08207078|  0.44222552|  0.13763066|   0.4686765|  -0.5847495| 0.7413801|\n",
            "|     70|  -0.48528415|-0.84075993| 0.5685909| -0.5929159| 0.44491196|   0.18748082|0.72938204|  -0.126575| -0.05452833| -0.16113089| 0.7949426|  0.10022794|-0.026306547|  0.20742337| -0.49857605|   0.4682909|  0.21599844|   -0.3860698| 0.10152924|  -0.40903217|    0.306717| 0.096744046|  0.11890817| -0.32742664| 1.2090402|\n",
            "|     80|    0.0509182| -0.9114824| 0.6868237|  -0.706423| -0.0656779|   0.42997137| 0.6272678|-0.18699875|  -0.5844532| -0.28307095|0.45190457| 0.099144086|  0.24936946|  0.18580133|-0.049047377|-0.028799824| -0.14570941|  -0.12440827|  0.3092756|   0.19148465| 0.034700856|  -0.0843211| -0.24722186|  -0.1924052|0.75548726|\n",
            "|    100| -0.041409742| -0.7252214| 0.6469534|-0.52437514|-0.23125525|    0.2447165| 0.3435082| -0.4162429|  -0.5464534|  0.30460405| 0.3147916| 0.004717557|  0.22563063|  0.09916649| -0.15539688|  -0.1656267|  0.11176462|   0.22538865| 0.08757182|  -0.42788738|   0.2071297|  0.11193451|  0.22625846| -0.50330323|0.51825863|\n",
            "|    110|   -0.1912252|-0.58634233|0.75772613|-0.82419086|-0.16314906|   0.09108296| 0.7414031| -0.7458025|  -0.5435923| 0.044923943| 0.2675432|  0.33792442|-0.022394406| -0.06243515|  -0.1720769|   0.5137297|  0.17977226|   0.05938639| 0.48498008| -0.076711416| -0.18507317|   0.6879329|  0.38507646|    -1.01628|0.83263683|\n",
            "|    140|-0.0025406592| -0.6950021| 0.7642229| -0.7743491| 0.07945934|   0.18146022| 0.5063678|-0.34537345| -0.03032794| -0.01931818|0.41853955|   0.2504495|   0.2332248| -0.35106272| -0.04567001| -0.06106555| -0.12942919|   0.04721501| -0.2865815|  0.094057895|  0.25955316|  0.60892427|  0.36051324|  -0.6323249|0.49856636|\n",
            "|    150|  -0.07534424|-0.49736723| 0.9995604| -0.8355418| -0.0741461|   0.30207384| 0.2241472|   -0.66886| -0.56151986|  0.09565223|0.44483775|  0.06695516|-0.061234243| -0.14928828| -0.42977455|  0.17645715| -0.28129438|   0.42048544|0.040127326|  -0.13154846| -0.06485421|  0.46663493|-0.056678414| -0.58376825| 1.0703267|\n",
            "|    160|  0.058768924|-0.12013307|0.56754965|-0.19362722| 0.24369714|  0.043482073|0.36896348|-0.30950612|-0.046972986|  0.51591355|0.35601488|  0.29409087|-0.041875727|  0.04608259|  -0.2683357|   0.3508503|  0.35179803|    0.3095524|-0.32749477|  -0.46579775|  0.36323947|  0.12767583|   0.5500058|  -0.9421149|0.84804666|\n",
            "|    170|  -0.21659814|-0.59471416| 0.8129471|-0.29729393|0.021130722|   0.17365344| 0.6502542|-0.40889585| -0.39616838| 0.123336814|0.47654197|   0.7556708| -0.03635761|-0.041808482|  -0.5001433|   0.6565009| -0.21772143|  -0.09134614|-0.19432454|   0.20118919|   0.0849693|  0.27143642|  0.02259103|   -0.704138| 0.6764931|\n",
            "|    180|   0.11210502|  -0.423645|0.14849076| -1.1301134|-0.06983882|   0.43178666|0.60340273| -0.5857954| -0.50725406|-0.062666096|0.43318728|   0.4089115| -0.06555476|   0.3266728|  -0.1834821|  0.55396575| 0.115576856|  -0.60885775|  0.3568661| -0.092437714|  0.05454551|  0.29728186|-0.041001555| -0.25860944| 0.8706652|\n",
            "|    190|  -0.20629078|-0.59206504| 0.2171936|-0.66981494| -0.1066516|    0.4938425| 0.3119034| 0.09811604|  -0.3538063| 0.120735526|0.19919607|-0.052415922|  0.16077515|  0.21243669| -0.07069817|-0.051005475|  -0.3306434|-0.0059899976|-0.26110277|  0.044696186|  0.17440362|-0.041430287|-0.006547727|-0.039956085|0.31992987|\n",
            "|    210| -0.066365324|-0.25399667| 0.8194878|-0.42740756| -0.1368384|  0.091550544| 0.2204113| -0.4231408| -0.29113597|  0.22946855|0.29268125|   0.5716029|  0.09656425|0.0023074646| -0.15636338|  0.16674587|-0.034045637|    0.3912996| -0.2649528|-0.0064778067| 0.093331665|   0.1968806|  0.37297574|  -0.7523199| 0.5911501|\n",
            "|    220|  -0.14505067|-0.48246372|0.41535807|-0.30040157| 0.03419651|-0.0032584378| 0.4257793|-0.10468872| -0.26313877|  0.33086684|0.59357804|  0.19210385|-0.007833366|  0.31741014| -0.17120652| -0.02955533|  0.13028495|   0.21435073|  0.0869584|   -0.1850523|  0.15013002|-0.098209076|  0.16354172| -0.32398894|0.46178424|\n",
            "|    230|   0.00645945| -0.4553827| 0.8458549| -0.7459644|-0.14740801|   0.21358155| 0.2876094|-0.23544383|  -0.5918236|  0.18440266| 0.5815178|  0.55628026|   0.6662734|  0.17655568| -0.17037702|-0.014796004|-0.100537784|   0.07058878| 0.02779365|   0.21939963|  0.05706373|-0.119430475|  0.15635364| -0.83536243|0.74012166|\n",
            "|    240|  -0.23460273|-0.18499558| 0.5759798| -0.3333359|0.054860715|    0.0947801|0.25605512|-0.46716207| -0.14988343|  0.25690985|  0.361477|  0.44447142|  -0.2518232|  0.04184691| -0.33647516|  0.11276821| -0.10637973|   0.24068782|-0.06947805|  -0.23903577|  0.15676448| 0.066360496|   0.4030764|  -0.3942022| 0.5420362|\n",
            "+-------+-------------+-----------+----------+-----------+-----------+-------------+----------+-----------+------------+------------+----------+------------+------------+------------+------------+------------+------------+-------------+-----------+-------------+------------+------------+------------+------------+----------+\n",
            "only showing top 20 rows\n",
            "\n"
          ]
        }
      ]
    },
    {
      "cell_type": "code",
      "source": [
        "# method 1: Euclidean distance based similarity\n",
        "# the smaller the euclidean distance between the factors, the similar the movies\n",
        "# this similarity considers the actual strength,\n",
        "def dist_similar(k,mid):\n",
        "  '''\n",
        "  k: number of similar movies to find\n",
        "  mid: id of the movie to find similarities\n",
        "  '''\n",
        "  movie_info=spark.sql('select * from movie_factors where movieId='+str(mid)).toPandas()\n",
        "  if movie_info.shape[0]<=0:\n",
        "    print('No movie with id '+str(mid)+' is found in the data.')\n",
        "    return None, None\n",
        "  temp=['select movieId,']\n",
        "  for i in range(bestModel.rank):\n",
        "    val=movie_info.iloc[0,i+1]\n",
        "    if val>0:\n",
        "      comd='feature'+str(i)+'-'+str(val)\n",
        "    else:\n",
        "      comd='feature'+str(i)+'+'+str(-val)\n",
        "    if i<bestModel.rank-1:\n",
        "      temp.append('('+comd+')*('+comd+') as sd'+str(i)+',')\n",
        "    else:\n",
        "      temp.append('('+comd+')*('+comd+') as sd'+str(i))\n",
        "  temp.append('from movie_factors where movieId!='+str(mid))  \n",
        "  ssd=spark.sql(' '.join(temp))\n",
        "  ssd=ssd.selectExpr('movieId','sd0+sd1+sd2+sd2+sd4 as ssd').orderBy('ssd').limit(k).toPandas()\n",
        "  out=None\n",
        "  for i in ssd['movieId']:\n",
        "    if not out:\n",
        "      out=movies_df.where(movies_df.movieId==str(i))\n",
        "    else:\n",
        "      out=out.union(movies_df.where(movies_df.movieId==str(i)))\n",
        "  out=out.toPandas()\n",
        "  out.index=range(1,k+1)\n",
        "  return out, ssd"
      ],
      "metadata": {
        "id": "Ylxmk4b6FrLI"
      },
      "execution_count": null,
      "outputs": []
    },
    {
      "cell_type": "code",
      "source": [
        "# method 2: cosine similarity\n",
        "# the larger the cosine value, the smaller the two feature vectors' angle, the similar the movies\n",
        "# this similarity considers the direction only,\n",
        "def cos_similar(k,mid):\n",
        "  '''\n",
        "  k: number of similar movies to find\n",
        "  mid: id of the movie to find similarities\n",
        "  '''\n",
        "  movie_info=spark.sql('select * from movie_factors where movieId='+str(mid)).toPandas()\n",
        "  if movie_info.shape[0]<=0:\n",
        "    print('No movie with id '+str(mid)+' is found in the data.')\n",
        "    return None, None\n",
        "  norm_m=sum(movie_info.iloc[0,1:].values**2)**0.5\n",
        "  temp=['select movieId,']\n",
        "  norm_str=['sqrt(']\n",
        "  for i in range(bestModel.rank):\n",
        "    comd='feature'+str(i)+'*'+str(movie_info.iloc[0,i+1])\n",
        "    temp.append(comd+' as inner'+str(i)+',')\n",
        "    if i<bestModel.rank-1:      \n",
        "      norm_str.append('feature'+str(i)+'*feature'+str(i)+'+')\n",
        "    else:\n",
        "      norm_str.append('feature'+str(i)+'*feature'+str(i))\n",
        "  norm_str.append(') as norm')\n",
        "  temp.append(''.join(norm_str))\n",
        "  temp.append(' from movie_factors where movieId!='+str(mid))  \n",
        "  inner=spark.sql(' '.join(temp))\n",
        "  inner=inner.selectExpr('movieId',\\\n",
        "                         '(inner0+inner1+inner2+inner3+inner4)/norm/'+str(norm_m)+' as innerP').\\\n",
        "                         orderBy('innerP',ascending=False).limit(k).toPandas()\n",
        "  out=None\n",
        "  for i in inner['movieId']:\n",
        "    if not out:\n",
        "      out=movies_df.where(movies_df.movieId==str(i))\n",
        "    else:\n",
        "      out=out.union(movies_df.where(movies_df.movieId==str(i)))\n",
        "  out=out.toPandas()\n",
        "  out.index=range(1,k+1)\n",
        "  return out, inner"
      ],
      "metadata": {
        "id": "nHYFkZbNrHsd"
      },
      "execution_count": null,
      "outputs": []
    },
    {
      "cell_type": "code",
      "source": [
        "# movie id 463, method 1, top 10 similar\n",
        "out11,ssd1=dist_similar(10,463)"
      ],
      "metadata": {
        "id": "AvAbYL2IrHpm",
        "colab": {
          "base_uri": "https://localhost:8080/"
        },
        "outputId": "eb4302a8-3f7a-49e9-9233-04cfadd0f83b"
      },
      "execution_count": null,
      "outputs": [
        {
          "output_type": "stream",
          "name": "stdout",
          "text": [
            "No movie with id 463 is found in the data.\n"
          ]
        }
      ]
    },
    {
      "cell_type": "code",
      "source": [
        "# movie id 471, method 1, top 10 similar\n",
        "out21,ssd2=dist_similar(10,471)\n",
        "out21"
      ],
      "metadata": {
        "id": "MU1_ngYvrHjm",
        "colab": {
          "base_uri": "https://localhost:8080/",
          "height": 359
        },
        "outputId": "6b278e9f-b98b-44c1-d1ef-46cba6188011"
      },
      "execution_count": null,
      "outputs": [
        {
          "output_type": "execute_result",
          "data": {
            "text/plain": [
              "   movieId                           title  \\\n",
              "1      438          Cowboy Way, The (1994)   \n",
              "2      340                 War, The (1994)   \n",
              "3      709         Oliver & Company (1988)   \n",
              "4     2124       Addams Family, The (1991)   \n",
              "5     3837              Phantasm II (1988)   \n",
              "6      212              Bushwhacked (1995)   \n",
              "7      280      Murder in the First (1995)   \n",
              "8      304                Roommates (1995)   \n",
              "9      339  While You Were Sleeping (1995)   \n",
              "10     210                Wild Bill (1995)   \n",
              "\n",
              "                                         genres  \n",
              "1                           Action|Comedy|Drama  \n",
              "2                           Adventure|Drama|War  \n",
              "3   Adventure|Animation|Children|Comedy|Musical  \n",
              "4                       Children|Comedy|Fantasy  \n",
              "5         Action|Fantasy|Horror|Sci-Fi|Thriller  \n",
              "6                Adventure|Comedy|Crime|Mystery  \n",
              "7                                Drama|Thriller  \n",
              "8                                  Comedy|Drama  \n",
              "9                                Comedy|Romance  \n",
              "10                                      Western  "
            ],
            "text/html": [
              "\n",
              "  <div id=\"df-6149c6ee-e31a-4a14-8116-5b247651172a\">\n",
              "    <div class=\"colab-df-container\">\n",
              "      <div>\n",
              "<style scoped>\n",
              "    .dataframe tbody tr th:only-of-type {\n",
              "        vertical-align: middle;\n",
              "    }\n",
              "\n",
              "    .dataframe tbody tr th {\n",
              "        vertical-align: top;\n",
              "    }\n",
              "\n",
              "    .dataframe thead th {\n",
              "        text-align: right;\n",
              "    }\n",
              "</style>\n",
              "<table border=\"1\" class=\"dataframe\">\n",
              "  <thead>\n",
              "    <tr style=\"text-align: right;\">\n",
              "      <th></th>\n",
              "      <th>movieId</th>\n",
              "      <th>title</th>\n",
              "      <th>genres</th>\n",
              "    </tr>\n",
              "  </thead>\n",
              "  <tbody>\n",
              "    <tr>\n",
              "      <th>1</th>\n",
              "      <td>438</td>\n",
              "      <td>Cowboy Way, The (1994)</td>\n",
              "      <td>Action|Comedy|Drama</td>\n",
              "    </tr>\n",
              "    <tr>\n",
              "      <th>2</th>\n",
              "      <td>340</td>\n",
              "      <td>War, The (1994)</td>\n",
              "      <td>Adventure|Drama|War</td>\n",
              "    </tr>\n",
              "    <tr>\n",
              "      <th>3</th>\n",
              "      <td>709</td>\n",
              "      <td>Oliver &amp; Company (1988)</td>\n",
              "      <td>Adventure|Animation|Children|Comedy|Musical</td>\n",
              "    </tr>\n",
              "    <tr>\n",
              "      <th>4</th>\n",
              "      <td>2124</td>\n",
              "      <td>Addams Family, The (1991)</td>\n",
              "      <td>Children|Comedy|Fantasy</td>\n",
              "    </tr>\n",
              "    <tr>\n",
              "      <th>5</th>\n",
              "      <td>3837</td>\n",
              "      <td>Phantasm II (1988)</td>\n",
              "      <td>Action|Fantasy|Horror|Sci-Fi|Thriller</td>\n",
              "    </tr>\n",
              "    <tr>\n",
              "      <th>6</th>\n",
              "      <td>212</td>\n",
              "      <td>Bushwhacked (1995)</td>\n",
              "      <td>Adventure|Comedy|Crime|Mystery</td>\n",
              "    </tr>\n",
              "    <tr>\n",
              "      <th>7</th>\n",
              "      <td>280</td>\n",
              "      <td>Murder in the First (1995)</td>\n",
              "      <td>Drama|Thriller</td>\n",
              "    </tr>\n",
              "    <tr>\n",
              "      <th>8</th>\n",
              "      <td>304</td>\n",
              "      <td>Roommates (1995)</td>\n",
              "      <td>Comedy|Drama</td>\n",
              "    </tr>\n",
              "    <tr>\n",
              "      <th>9</th>\n",
              "      <td>339</td>\n",
              "      <td>While You Were Sleeping (1995)</td>\n",
              "      <td>Comedy|Romance</td>\n",
              "    </tr>\n",
              "    <tr>\n",
              "      <th>10</th>\n",
              "      <td>210</td>\n",
              "      <td>Wild Bill (1995)</td>\n",
              "      <td>Western</td>\n",
              "    </tr>\n",
              "  </tbody>\n",
              "</table>\n",
              "</div>\n",
              "      <button class=\"colab-df-convert\" onclick=\"convertToInteractive('df-6149c6ee-e31a-4a14-8116-5b247651172a')\"\n",
              "              title=\"Convert this dataframe to an interactive table.\"\n",
              "              style=\"display:none;\">\n",
              "        \n",
              "  <svg xmlns=\"http://www.w3.org/2000/svg\" height=\"24px\"viewBox=\"0 0 24 24\"\n",
              "       width=\"24px\">\n",
              "    <path d=\"M0 0h24v24H0V0z\" fill=\"none\"/>\n",
              "    <path d=\"M18.56 5.44l.94 2.06.94-2.06 2.06-.94-2.06-.94-.94-2.06-.94 2.06-2.06.94zm-11 1L8.5 8.5l.94-2.06 2.06-.94-2.06-.94L8.5 2.5l-.94 2.06-2.06.94zm10 10l.94 2.06.94-2.06 2.06-.94-2.06-.94-.94-2.06-.94 2.06-2.06.94z\"/><path d=\"M17.41 7.96l-1.37-1.37c-.4-.4-.92-.59-1.43-.59-.52 0-1.04.2-1.43.59L10.3 9.45l-7.72 7.72c-.78.78-.78 2.05 0 2.83L4 21.41c.39.39.9.59 1.41.59.51 0 1.02-.2 1.41-.59l7.78-7.78 2.81-2.81c.8-.78.8-2.07 0-2.86zM5.41 20L4 18.59l7.72-7.72 1.47 1.35L5.41 20z\"/>\n",
              "  </svg>\n",
              "      </button>\n",
              "      \n",
              "  <style>\n",
              "    .colab-df-container {\n",
              "      display:flex;\n",
              "      flex-wrap:wrap;\n",
              "      gap: 12px;\n",
              "    }\n",
              "\n",
              "    .colab-df-convert {\n",
              "      background-color: #E8F0FE;\n",
              "      border: none;\n",
              "      border-radius: 50%;\n",
              "      cursor: pointer;\n",
              "      display: none;\n",
              "      fill: #1967D2;\n",
              "      height: 32px;\n",
              "      padding: 0 0 0 0;\n",
              "      width: 32px;\n",
              "    }\n",
              "\n",
              "    .colab-df-convert:hover {\n",
              "      background-color: #E2EBFA;\n",
              "      box-shadow: 0px 1px 2px rgba(60, 64, 67, 0.3), 0px 1px 3px 1px rgba(60, 64, 67, 0.15);\n",
              "      fill: #174EA6;\n",
              "    }\n",
              "\n",
              "    [theme=dark] .colab-df-convert {\n",
              "      background-color: #3B4455;\n",
              "      fill: #D2E3FC;\n",
              "    }\n",
              "\n",
              "    [theme=dark] .colab-df-convert:hover {\n",
              "      background-color: #434B5C;\n",
              "      box-shadow: 0px 1px 3px 1px rgba(0, 0, 0, 0.15);\n",
              "      filter: drop-shadow(0px 1px 2px rgba(0, 0, 0, 0.3));\n",
              "      fill: #FFFFFF;\n",
              "    }\n",
              "  </style>\n",
              "\n",
              "      <script>\n",
              "        const buttonEl =\n",
              "          document.querySelector('#df-6149c6ee-e31a-4a14-8116-5b247651172a button.colab-df-convert');\n",
              "        buttonEl.style.display =\n",
              "          google.colab.kernel.accessAllowed ? 'block' : 'none';\n",
              "\n",
              "        async function convertToInteractive(key) {\n",
              "          const element = document.querySelector('#df-6149c6ee-e31a-4a14-8116-5b247651172a');\n",
              "          const dataTable =\n",
              "            await google.colab.kernel.invokeFunction('convertToInteractive',\n",
              "                                                     [key], {});\n",
              "          if (!dataTable) return;\n",
              "\n",
              "          const docLinkHtml = 'Like what you see? Visit the ' +\n",
              "            '<a target=\"_blank\" href=https://colab.research.google.com/notebooks/data_table.ipynb>data table notebook</a>'\n",
              "            + ' to learn more about interactive tables.';\n",
              "          element.innerHTML = '';\n",
              "          dataTable['output_type'] = 'display_data';\n",
              "          await google.colab.output.renderOutput(dataTable, element);\n",
              "          const docLink = document.createElement('div');\n",
              "          docLink.innerHTML = docLinkHtml;\n",
              "          element.appendChild(docLink);\n",
              "        }\n",
              "      </script>\n",
              "    </div>\n",
              "  </div>\n",
              "  "
            ]
          },
          "metadata": {},
          "execution_count": 54
        }
      ]
    },
    {
      "cell_type": "code",
      "source": [
        "# movie id 471, method 2, top 10 similar\n",
        "out22,inner2=cos_similar(10,471)\n",
        "out22"
      ],
      "metadata": {
        "id": "s6SvYz7-rHgt",
        "colab": {
          "base_uri": "https://localhost:8080/",
          "height": 359
        },
        "outputId": "51732784-67d9-4d3b-9846-4f03f3b9a29f"
      },
      "execution_count": null,
      "outputs": [
        {
          "output_type": "execute_result",
          "data": {
            "text/plain": [
              "   movieId                                       title  \\\n",
              "1     3889  Highlander: Endgame (Highlander IV) (2000)   \n",
              "2      706                          Sunset Park (1996)   \n",
              "3     1167                             Dear God (1996)   \n",
              "4     8864                             Mr. 3000 (2004)   \n",
              "5     3087                             Scrooged (1988)   \n",
              "6     2641                          Superman II (1980)   \n",
              "7     4743                        Tortilla Soup (2001)   \n",
              "8     2687                               Tarzan (1999)   \n",
              "9     5792                         Roger Dodger (2002)   \n",
              "10    5443                         Juwanna Mann (2002)   \n",
              "\n",
              "                                genres  \n",
              "1             Action|Adventure|Fantasy  \n",
              "2                                Drama  \n",
              "3                               Comedy  \n",
              "4                         Comedy|Drama  \n",
              "5               Comedy|Fantasy|Romance  \n",
              "6                        Action|Sci-Fi  \n",
              "7                       Comedy|Romance  \n",
              "8   Adventure|Animation|Children|Drama  \n",
              "9                         Comedy|Drama  \n",
              "10                              Comedy  "
            ],
            "text/html": [
              "\n",
              "  <div id=\"df-5df3050f-aaa5-4df8-bde0-4181ec65d862\">\n",
              "    <div class=\"colab-df-container\">\n",
              "      <div>\n",
              "<style scoped>\n",
              "    .dataframe tbody tr th:only-of-type {\n",
              "        vertical-align: middle;\n",
              "    }\n",
              "\n",
              "    .dataframe tbody tr th {\n",
              "        vertical-align: top;\n",
              "    }\n",
              "\n",
              "    .dataframe thead th {\n",
              "        text-align: right;\n",
              "    }\n",
              "</style>\n",
              "<table border=\"1\" class=\"dataframe\">\n",
              "  <thead>\n",
              "    <tr style=\"text-align: right;\">\n",
              "      <th></th>\n",
              "      <th>movieId</th>\n",
              "      <th>title</th>\n",
              "      <th>genres</th>\n",
              "    </tr>\n",
              "  </thead>\n",
              "  <tbody>\n",
              "    <tr>\n",
              "      <th>1</th>\n",
              "      <td>3889</td>\n",
              "      <td>Highlander: Endgame (Highlander IV) (2000)</td>\n",
              "      <td>Action|Adventure|Fantasy</td>\n",
              "    </tr>\n",
              "    <tr>\n",
              "      <th>2</th>\n",
              "      <td>706</td>\n",
              "      <td>Sunset Park (1996)</td>\n",
              "      <td>Drama</td>\n",
              "    </tr>\n",
              "    <tr>\n",
              "      <th>3</th>\n",
              "      <td>1167</td>\n",
              "      <td>Dear God (1996)</td>\n",
              "      <td>Comedy</td>\n",
              "    </tr>\n",
              "    <tr>\n",
              "      <th>4</th>\n",
              "      <td>8864</td>\n",
              "      <td>Mr. 3000 (2004)</td>\n",
              "      <td>Comedy|Drama</td>\n",
              "    </tr>\n",
              "    <tr>\n",
              "      <th>5</th>\n",
              "      <td>3087</td>\n",
              "      <td>Scrooged (1988)</td>\n",
              "      <td>Comedy|Fantasy|Romance</td>\n",
              "    </tr>\n",
              "    <tr>\n",
              "      <th>6</th>\n",
              "      <td>2641</td>\n",
              "      <td>Superman II (1980)</td>\n",
              "      <td>Action|Sci-Fi</td>\n",
              "    </tr>\n",
              "    <tr>\n",
              "      <th>7</th>\n",
              "      <td>4743</td>\n",
              "      <td>Tortilla Soup (2001)</td>\n",
              "      <td>Comedy|Romance</td>\n",
              "    </tr>\n",
              "    <tr>\n",
              "      <th>8</th>\n",
              "      <td>2687</td>\n",
              "      <td>Tarzan (1999)</td>\n",
              "      <td>Adventure|Animation|Children|Drama</td>\n",
              "    </tr>\n",
              "    <tr>\n",
              "      <th>9</th>\n",
              "      <td>5792</td>\n",
              "      <td>Roger Dodger (2002)</td>\n",
              "      <td>Comedy|Drama</td>\n",
              "    </tr>\n",
              "    <tr>\n",
              "      <th>10</th>\n",
              "      <td>5443</td>\n",
              "      <td>Juwanna Mann (2002)</td>\n",
              "      <td>Comedy</td>\n",
              "    </tr>\n",
              "  </tbody>\n",
              "</table>\n",
              "</div>\n",
              "      <button class=\"colab-df-convert\" onclick=\"convertToInteractive('df-5df3050f-aaa5-4df8-bde0-4181ec65d862')\"\n",
              "              title=\"Convert this dataframe to an interactive table.\"\n",
              "              style=\"display:none;\">\n",
              "        \n",
              "  <svg xmlns=\"http://www.w3.org/2000/svg\" height=\"24px\"viewBox=\"0 0 24 24\"\n",
              "       width=\"24px\">\n",
              "    <path d=\"M0 0h24v24H0V0z\" fill=\"none\"/>\n",
              "    <path d=\"M18.56 5.44l.94 2.06.94-2.06 2.06-.94-2.06-.94-.94-2.06-.94 2.06-2.06.94zm-11 1L8.5 8.5l.94-2.06 2.06-.94-2.06-.94L8.5 2.5l-.94 2.06-2.06.94zm10 10l.94 2.06.94-2.06 2.06-.94-2.06-.94-.94-2.06-.94 2.06-2.06.94z\"/><path d=\"M17.41 7.96l-1.37-1.37c-.4-.4-.92-.59-1.43-.59-.52 0-1.04.2-1.43.59L10.3 9.45l-7.72 7.72c-.78.78-.78 2.05 0 2.83L4 21.41c.39.39.9.59 1.41.59.51 0 1.02-.2 1.41-.59l7.78-7.78 2.81-2.81c.8-.78.8-2.07 0-2.86zM5.41 20L4 18.59l7.72-7.72 1.47 1.35L5.41 20z\"/>\n",
              "  </svg>\n",
              "      </button>\n",
              "      \n",
              "  <style>\n",
              "    .colab-df-container {\n",
              "      display:flex;\n",
              "      flex-wrap:wrap;\n",
              "      gap: 12px;\n",
              "    }\n",
              "\n",
              "    .colab-df-convert {\n",
              "      background-color: #E8F0FE;\n",
              "      border: none;\n",
              "      border-radius: 50%;\n",
              "      cursor: pointer;\n",
              "      display: none;\n",
              "      fill: #1967D2;\n",
              "      height: 32px;\n",
              "      padding: 0 0 0 0;\n",
              "      width: 32px;\n",
              "    }\n",
              "\n",
              "    .colab-df-convert:hover {\n",
              "      background-color: #E2EBFA;\n",
              "      box-shadow: 0px 1px 2px rgba(60, 64, 67, 0.3), 0px 1px 3px 1px rgba(60, 64, 67, 0.15);\n",
              "      fill: #174EA6;\n",
              "    }\n",
              "\n",
              "    [theme=dark] .colab-df-convert {\n",
              "      background-color: #3B4455;\n",
              "      fill: #D2E3FC;\n",
              "    }\n",
              "\n",
              "    [theme=dark] .colab-df-convert:hover {\n",
              "      background-color: #434B5C;\n",
              "      box-shadow: 0px 1px 3px 1px rgba(0, 0, 0, 0.15);\n",
              "      filter: drop-shadow(0px 1px 2px rgba(0, 0, 0, 0.3));\n",
              "      fill: #FFFFFF;\n",
              "    }\n",
              "  </style>\n",
              "\n",
              "      <script>\n",
              "        const buttonEl =\n",
              "          document.querySelector('#df-5df3050f-aaa5-4df8-bde0-4181ec65d862 button.colab-df-convert');\n",
              "        buttonEl.style.display =\n",
              "          google.colab.kernel.accessAllowed ? 'block' : 'none';\n",
              "\n",
              "        async function convertToInteractive(key) {\n",
              "          const element = document.querySelector('#df-5df3050f-aaa5-4df8-bde0-4181ec65d862');\n",
              "          const dataTable =\n",
              "            await google.colab.kernel.invokeFunction('convertToInteractive',\n",
              "                                                     [key], {});\n",
              "          if (!dataTable) return;\n",
              "\n",
              "          const docLinkHtml = 'Like what you see? Visit the ' +\n",
              "            '<a target=\"_blank\" href=https://colab.research.google.com/notebooks/data_table.ipynb>data table notebook</a>'\n",
              "            + ' to learn more about interactive tables.';\n",
              "          element.innerHTML = '';\n",
              "          dataTable['output_type'] = 'display_data';\n",
              "          await google.colab.output.renderOutput(dataTable, element);\n",
              "          const docLink = document.createElement('div');\n",
              "          docLink.innerHTML = docLinkHtml;\n",
              "          element.appendChild(docLink);\n",
              "        }\n",
              "      </script>\n",
              "    </div>\n",
              "  </div>\n",
              "  "
            ]
          },
          "metadata": {},
          "execution_count": 55
        }
      ]
    },
    {
      "cell_type": "code",
      "source": [
        "# movie id 10, method 1, top 5 similar\n",
        "out31,ssd3=dist_similar(5,10)\n",
        "out31"
      ],
      "metadata": {
        "id": "CV4w7ZuCrHd5",
        "colab": {
          "base_uri": "https://localhost:8080/",
          "height": 204
        },
        "outputId": "b26e7022-b3c9-4bbc-9a9e-6323d74ce268"
      },
      "execution_count": null,
      "outputs": [
        {
          "output_type": "execute_result",
          "data": {
            "text/plain": [
              "  movieId                                              title  \\\n",
              "1    1552                                     Con Air (1997)   \n",
              "2   33493  Star Wars: Episode III - Revenge of the Sith (...   \n",
              "3    3256                               Patriot Games (1992)   \n",
              "4    1441                                Benny & Joon (1993)   \n",
              "5    2097             Something Wicked This Way Comes (1983)   \n",
              "\n",
              "                                    genres  \n",
              "1                Action|Adventure|Thriller  \n",
              "2                  Action|Adventure|Sci-Fi  \n",
              "3              Action|Crime|Drama|Thriller  \n",
              "4                           Comedy|Romance  \n",
              "5  Children|Drama|Fantasy|Mystery|Thriller  "
            ],
            "text/html": [
              "\n",
              "  <div id=\"df-5203814d-01a4-43fa-94bb-da38b83839ca\">\n",
              "    <div class=\"colab-df-container\">\n",
              "      <div>\n",
              "<style scoped>\n",
              "    .dataframe tbody tr th:only-of-type {\n",
              "        vertical-align: middle;\n",
              "    }\n",
              "\n",
              "    .dataframe tbody tr th {\n",
              "        vertical-align: top;\n",
              "    }\n",
              "\n",
              "    .dataframe thead th {\n",
              "        text-align: right;\n",
              "    }\n",
              "</style>\n",
              "<table border=\"1\" class=\"dataframe\">\n",
              "  <thead>\n",
              "    <tr style=\"text-align: right;\">\n",
              "      <th></th>\n",
              "      <th>movieId</th>\n",
              "      <th>title</th>\n",
              "      <th>genres</th>\n",
              "    </tr>\n",
              "  </thead>\n",
              "  <tbody>\n",
              "    <tr>\n",
              "      <th>1</th>\n",
              "      <td>1552</td>\n",
              "      <td>Con Air (1997)</td>\n",
              "      <td>Action|Adventure|Thriller</td>\n",
              "    </tr>\n",
              "    <tr>\n",
              "      <th>2</th>\n",
              "      <td>33493</td>\n",
              "      <td>Star Wars: Episode III - Revenge of the Sith (...</td>\n",
              "      <td>Action|Adventure|Sci-Fi</td>\n",
              "    </tr>\n",
              "    <tr>\n",
              "      <th>3</th>\n",
              "      <td>3256</td>\n",
              "      <td>Patriot Games (1992)</td>\n",
              "      <td>Action|Crime|Drama|Thriller</td>\n",
              "    </tr>\n",
              "    <tr>\n",
              "      <th>4</th>\n",
              "      <td>1441</td>\n",
              "      <td>Benny &amp; Joon (1993)</td>\n",
              "      <td>Comedy|Romance</td>\n",
              "    </tr>\n",
              "    <tr>\n",
              "      <th>5</th>\n",
              "      <td>2097</td>\n",
              "      <td>Something Wicked This Way Comes (1983)</td>\n",
              "      <td>Children|Drama|Fantasy|Mystery|Thriller</td>\n",
              "    </tr>\n",
              "  </tbody>\n",
              "</table>\n",
              "</div>\n",
              "      <button class=\"colab-df-convert\" onclick=\"convertToInteractive('df-5203814d-01a4-43fa-94bb-da38b83839ca')\"\n",
              "              title=\"Convert this dataframe to an interactive table.\"\n",
              "              style=\"display:none;\">\n",
              "        \n",
              "  <svg xmlns=\"http://www.w3.org/2000/svg\" height=\"24px\"viewBox=\"0 0 24 24\"\n",
              "       width=\"24px\">\n",
              "    <path d=\"M0 0h24v24H0V0z\" fill=\"none\"/>\n",
              "    <path d=\"M18.56 5.44l.94 2.06.94-2.06 2.06-.94-2.06-.94-.94-2.06-.94 2.06-2.06.94zm-11 1L8.5 8.5l.94-2.06 2.06-.94-2.06-.94L8.5 2.5l-.94 2.06-2.06.94zm10 10l.94 2.06.94-2.06 2.06-.94-2.06-.94-.94-2.06-.94 2.06-2.06.94z\"/><path d=\"M17.41 7.96l-1.37-1.37c-.4-.4-.92-.59-1.43-.59-.52 0-1.04.2-1.43.59L10.3 9.45l-7.72 7.72c-.78.78-.78 2.05 0 2.83L4 21.41c.39.39.9.59 1.41.59.51 0 1.02-.2 1.41-.59l7.78-7.78 2.81-2.81c.8-.78.8-2.07 0-2.86zM5.41 20L4 18.59l7.72-7.72 1.47 1.35L5.41 20z\"/>\n",
              "  </svg>\n",
              "      </button>\n",
              "      \n",
              "  <style>\n",
              "    .colab-df-container {\n",
              "      display:flex;\n",
              "      flex-wrap:wrap;\n",
              "      gap: 12px;\n",
              "    }\n",
              "\n",
              "    .colab-df-convert {\n",
              "      background-color: #E8F0FE;\n",
              "      border: none;\n",
              "      border-radius: 50%;\n",
              "      cursor: pointer;\n",
              "      display: none;\n",
              "      fill: #1967D2;\n",
              "      height: 32px;\n",
              "      padding: 0 0 0 0;\n",
              "      width: 32px;\n",
              "    }\n",
              "\n",
              "    .colab-df-convert:hover {\n",
              "      background-color: #E2EBFA;\n",
              "      box-shadow: 0px 1px 2px rgba(60, 64, 67, 0.3), 0px 1px 3px 1px rgba(60, 64, 67, 0.15);\n",
              "      fill: #174EA6;\n",
              "    }\n",
              "\n",
              "    [theme=dark] .colab-df-convert {\n",
              "      background-color: #3B4455;\n",
              "      fill: #D2E3FC;\n",
              "    }\n",
              "\n",
              "    [theme=dark] .colab-df-convert:hover {\n",
              "      background-color: #434B5C;\n",
              "      box-shadow: 0px 1px 3px 1px rgba(0, 0, 0, 0.15);\n",
              "      filter: drop-shadow(0px 1px 2px rgba(0, 0, 0, 0.3));\n",
              "      fill: #FFFFFF;\n",
              "    }\n",
              "  </style>\n",
              "\n",
              "      <script>\n",
              "        const buttonEl =\n",
              "          document.querySelector('#df-5203814d-01a4-43fa-94bb-da38b83839ca button.colab-df-convert');\n",
              "        buttonEl.style.display =\n",
              "          google.colab.kernel.accessAllowed ? 'block' : 'none';\n",
              "\n",
              "        async function convertToInteractive(key) {\n",
              "          const element = document.querySelector('#df-5203814d-01a4-43fa-94bb-da38b83839ca');\n",
              "          const dataTable =\n",
              "            await google.colab.kernel.invokeFunction('convertToInteractive',\n",
              "                                                     [key], {});\n",
              "          if (!dataTable) return;\n",
              "\n",
              "          const docLinkHtml = 'Like what you see? Visit the ' +\n",
              "            '<a target=\"_blank\" href=https://colab.research.google.com/notebooks/data_table.ipynb>data table notebook</a>'\n",
              "            + ' to learn more about interactive tables.';\n",
              "          element.innerHTML = '';\n",
              "          dataTable['output_type'] = 'display_data';\n",
              "          await google.colab.output.renderOutput(dataTable, element);\n",
              "          const docLink = document.createElement('div');\n",
              "          docLink.innerHTML = docLinkHtml;\n",
              "          element.appendChild(docLink);\n",
              "        }\n",
              "      </script>\n",
              "    </div>\n",
              "  </div>\n",
              "  "
            ]
          },
          "metadata": {},
          "execution_count": 56
        }
      ]
    },
    {
      "cell_type": "code",
      "source": [
        "# movie id 10, method 2, top 5 similar\n",
        "out42,inner3=cos_similar(5,10)\n",
        "out42"
      ],
      "metadata": {
        "id": "GIC4i2hBrHbA",
        "colab": {
          "base_uri": "https://localhost:8080/",
          "height": 204
        },
        "outputId": "177589d3-9c9d-4b69-b9fa-7542030a4e72"
      },
      "execution_count": null,
      "outputs": [
        {
          "output_type": "execute_result",
          "data": {
            "text/plain": [
              "  movieId                                              title  \\\n",
              "1   85354  Mesrine: Public Enemy #1 (L'ennemi public n°1)...   \n",
              "2    2687                                      Tarzan (1999)   \n",
              "3     511                                Program, The (1993)   \n",
              "4    2563                            Dangerous Beauty (1998)   \n",
              "5     706                                 Sunset Park (1996)   \n",
              "\n",
              "                               genres  \n",
              "1                        Action|Crime  \n",
              "2  Adventure|Animation|Children|Drama  \n",
              "3                        Action|Drama  \n",
              "4                               Drama  \n",
              "5                               Drama  "
            ],
            "text/html": [
              "\n",
              "  <div id=\"df-402d70df-e26b-48f4-ae5c-b8ba89114efa\">\n",
              "    <div class=\"colab-df-container\">\n",
              "      <div>\n",
              "<style scoped>\n",
              "    .dataframe tbody tr th:only-of-type {\n",
              "        vertical-align: middle;\n",
              "    }\n",
              "\n",
              "    .dataframe tbody tr th {\n",
              "        vertical-align: top;\n",
              "    }\n",
              "\n",
              "    .dataframe thead th {\n",
              "        text-align: right;\n",
              "    }\n",
              "</style>\n",
              "<table border=\"1\" class=\"dataframe\">\n",
              "  <thead>\n",
              "    <tr style=\"text-align: right;\">\n",
              "      <th></th>\n",
              "      <th>movieId</th>\n",
              "      <th>title</th>\n",
              "      <th>genres</th>\n",
              "    </tr>\n",
              "  </thead>\n",
              "  <tbody>\n",
              "    <tr>\n",
              "      <th>1</th>\n",
              "      <td>85354</td>\n",
              "      <td>Mesrine: Public Enemy #1 (L'ennemi public n°1)...</td>\n",
              "      <td>Action|Crime</td>\n",
              "    </tr>\n",
              "    <tr>\n",
              "      <th>2</th>\n",
              "      <td>2687</td>\n",
              "      <td>Tarzan (1999)</td>\n",
              "      <td>Adventure|Animation|Children|Drama</td>\n",
              "    </tr>\n",
              "    <tr>\n",
              "      <th>3</th>\n",
              "      <td>511</td>\n",
              "      <td>Program, The (1993)</td>\n",
              "      <td>Action|Drama</td>\n",
              "    </tr>\n",
              "    <tr>\n",
              "      <th>4</th>\n",
              "      <td>2563</td>\n",
              "      <td>Dangerous Beauty (1998)</td>\n",
              "      <td>Drama</td>\n",
              "    </tr>\n",
              "    <tr>\n",
              "      <th>5</th>\n",
              "      <td>706</td>\n",
              "      <td>Sunset Park (1996)</td>\n",
              "      <td>Drama</td>\n",
              "    </tr>\n",
              "  </tbody>\n",
              "</table>\n",
              "</div>\n",
              "      <button class=\"colab-df-convert\" onclick=\"convertToInteractive('df-402d70df-e26b-48f4-ae5c-b8ba89114efa')\"\n",
              "              title=\"Convert this dataframe to an interactive table.\"\n",
              "              style=\"display:none;\">\n",
              "        \n",
              "  <svg xmlns=\"http://www.w3.org/2000/svg\" height=\"24px\"viewBox=\"0 0 24 24\"\n",
              "       width=\"24px\">\n",
              "    <path d=\"M0 0h24v24H0V0z\" fill=\"none\"/>\n",
              "    <path d=\"M18.56 5.44l.94 2.06.94-2.06 2.06-.94-2.06-.94-.94-2.06-.94 2.06-2.06.94zm-11 1L8.5 8.5l.94-2.06 2.06-.94-2.06-.94L8.5 2.5l-.94 2.06-2.06.94zm10 10l.94 2.06.94-2.06 2.06-.94-2.06-.94-.94-2.06-.94 2.06-2.06.94z\"/><path d=\"M17.41 7.96l-1.37-1.37c-.4-.4-.92-.59-1.43-.59-.52 0-1.04.2-1.43.59L10.3 9.45l-7.72 7.72c-.78.78-.78 2.05 0 2.83L4 21.41c.39.39.9.59 1.41.59.51 0 1.02-.2 1.41-.59l7.78-7.78 2.81-2.81c.8-.78.8-2.07 0-2.86zM5.41 20L4 18.59l7.72-7.72 1.47 1.35L5.41 20z\"/>\n",
              "  </svg>\n",
              "      </button>\n",
              "      \n",
              "  <style>\n",
              "    .colab-df-container {\n",
              "      display:flex;\n",
              "      flex-wrap:wrap;\n",
              "      gap: 12px;\n",
              "    }\n",
              "\n",
              "    .colab-df-convert {\n",
              "      background-color: #E8F0FE;\n",
              "      border: none;\n",
              "      border-radius: 50%;\n",
              "      cursor: pointer;\n",
              "      display: none;\n",
              "      fill: #1967D2;\n",
              "      height: 32px;\n",
              "      padding: 0 0 0 0;\n",
              "      width: 32px;\n",
              "    }\n",
              "\n",
              "    .colab-df-convert:hover {\n",
              "      background-color: #E2EBFA;\n",
              "      box-shadow: 0px 1px 2px rgba(60, 64, 67, 0.3), 0px 1px 3px 1px rgba(60, 64, 67, 0.15);\n",
              "      fill: #174EA6;\n",
              "    }\n",
              "\n",
              "    [theme=dark] .colab-df-convert {\n",
              "      background-color: #3B4455;\n",
              "      fill: #D2E3FC;\n",
              "    }\n",
              "\n",
              "    [theme=dark] .colab-df-convert:hover {\n",
              "      background-color: #434B5C;\n",
              "      box-shadow: 0px 1px 3px 1px rgba(0, 0, 0, 0.15);\n",
              "      filter: drop-shadow(0px 1px 2px rgba(0, 0, 0, 0.3));\n",
              "      fill: #FFFFFF;\n",
              "    }\n",
              "  </style>\n",
              "\n",
              "      <script>\n",
              "        const buttonEl =\n",
              "          document.querySelector('#df-402d70df-e26b-48f4-ae5c-b8ba89114efa button.colab-df-convert');\n",
              "        buttonEl.style.display =\n",
              "          google.colab.kernel.accessAllowed ? 'block' : 'none';\n",
              "\n",
              "        async function convertToInteractive(key) {\n",
              "          const element = document.querySelector('#df-402d70df-e26b-48f4-ae5c-b8ba89114efa');\n",
              "          const dataTable =\n",
              "            await google.colab.kernel.invokeFunction('convertToInteractive',\n",
              "                                                     [key], {});\n",
              "          if (!dataTable) return;\n",
              "\n",
              "          const docLinkHtml = 'Like what you see? Visit the ' +\n",
              "            '<a target=\"_blank\" href=https://colab.research.google.com/notebooks/data_table.ipynb>data table notebook</a>'\n",
              "            + ' to learn more about interactive tables.';\n",
              "          element.innerHTML = '';\n",
              "          dataTable['output_type'] = 'display_data';\n",
              "          await google.colab.output.renderOutput(dataTable, element);\n",
              "          const docLink = document.createElement('div');\n",
              "          docLink.innerHTML = docLinkHtml;\n",
              "          element.appendChild(docLink);\n",
              "        }\n",
              "      </script>\n",
              "    </div>\n",
              "  </div>\n",
              "  "
            ]
          },
          "metadata": {},
          "execution_count": 57
        }
      ]
    }
  ]
}